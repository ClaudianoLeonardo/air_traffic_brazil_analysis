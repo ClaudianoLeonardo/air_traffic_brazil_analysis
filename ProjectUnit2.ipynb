{
  "nbformat": 4,
  "nbformat_minor": 0,
  "metadata": {
    "colab": {
      "provenance": []
    },
    "kernelspec": {
      "name": "python3",
      "display_name": "Python 3"
    },
    "language_info": {
      "name": "python"
    }
  },
  "cells": [
    {
      "cell_type": "code",
      "source": [
        "from google.colab import drive\n",
        "drive.mount('/content/drive')"
      ],
      "metadata": {
        "colab": {
          "base_uri": "https://localhost:8080/"
        },
        "id": "i3LFiauJPRHb",
        "outputId": "4eaa7103-c5da-4537-8243-37b2dbdc61f5"
      },
      "execution_count": 1,
      "outputs": [
        {
          "output_type": "stream",
          "name": "stdout",
          "text": [
            "Mounted at /content/drive\n"
          ]
        }
      ]
    },
    {
      "cell_type": "code",
      "execution_count": 2,
      "metadata": {
        "colab": {
          "base_uri": "https://localhost:8080/",
          "height": 641
        },
        "id": "lbLjxcOhrKUX",
        "outputId": "ce843426-9ddc-44f9-ab0a-d87c99d56f63"
      },
      "outputs": [
        {
          "output_type": "stream",
          "name": "stdout",
          "text": [
            "Looking in indexes: https://pypi.org/simple, https://us-python.pkg.dev/colab-wheels/public/simple/\n",
            "Collecting nxviz==0.6.3\n",
            "  Downloading nxviz-0.6.3-py3-none-any.whl (20 kB)\n",
            "Requirement already satisfied: seaborn>=0.11.1 in /usr/local/lib/python3.7/dist-packages (from nxviz==0.6.3) (0.11.2)\n",
            "Collecting matplotlib>=3.3.3\n",
            "  Downloading matplotlib-3.5.3-cp37-cp37m-manylinux_2_5_x86_64.manylinux1_x86_64.whl (11.2 MB)\n",
            "\u001b[K     |████████████████████████████████| 11.2 MB 7.0 MB/s \n",
            "\u001b[?25hRequirement already satisfied: more-itertools>=8.6.0 in /usr/local/lib/python3.7/dist-packages (from nxviz==0.6.3) (9.0.0)\n",
            "Requirement already satisfied: pandas>=1.2.0 in /usr/local/lib/python3.7/dist-packages (from nxviz==0.6.3) (1.3.5)\n",
            "Requirement already satisfied: networkx>=2.5 in /usr/local/lib/python3.7/dist-packages (from nxviz==0.6.3) (2.6.3)\n",
            "Requirement already satisfied: palettable>=3.3.0 in /usr/local/lib/python3.7/dist-packages (from nxviz==0.6.3) (3.3.0)\n",
            "Requirement already satisfied: numpy>=1.19.4 in /usr/local/lib/python3.7/dist-packages (from nxviz==0.6.3) (1.21.6)\n",
            "Requirement already satisfied: packaging>=20.0 in /usr/local/lib/python3.7/dist-packages (from matplotlib>=3.3.3->nxviz==0.6.3) (21.3)\n",
            "Requirement already satisfied: pyparsing>=2.2.1 in /usr/local/lib/python3.7/dist-packages (from matplotlib>=3.3.3->nxviz==0.6.3) (3.0.9)\n",
            "Requirement already satisfied: cycler>=0.10 in /usr/local/lib/python3.7/dist-packages (from matplotlib>=3.3.3->nxviz==0.6.3) (0.11.0)\n",
            "Requirement already satisfied: python-dateutil>=2.7 in /usr/local/lib/python3.7/dist-packages (from matplotlib>=3.3.3->nxviz==0.6.3) (2.8.2)\n",
            "Collecting fonttools>=4.22.0\n",
            "  Downloading fonttools-4.38.0-py3-none-any.whl (965 kB)\n",
            "\u001b[K     |████████████████████████████████| 965 kB 65.7 MB/s \n",
            "\u001b[?25hRequirement already satisfied: pillow>=6.2.0 in /usr/local/lib/python3.7/dist-packages (from matplotlib>=3.3.3->nxviz==0.6.3) (7.1.2)\n",
            "Requirement already satisfied: kiwisolver>=1.0.1 in /usr/local/lib/python3.7/dist-packages (from matplotlib>=3.3.3->nxviz==0.6.3) (1.4.4)\n",
            "Requirement already satisfied: typing-extensions in /usr/local/lib/python3.7/dist-packages (from kiwisolver>=1.0.1->matplotlib>=3.3.3->nxviz==0.6.3) (4.1.1)\n",
            "Requirement already satisfied: pytz>=2017.3 in /usr/local/lib/python3.7/dist-packages (from pandas>=1.2.0->nxviz==0.6.3) (2022.6)\n",
            "Requirement already satisfied: six>=1.5 in /usr/local/lib/python3.7/dist-packages (from python-dateutil>=2.7->matplotlib>=3.3.3->nxviz==0.6.3) (1.15.0)\n",
            "Requirement already satisfied: scipy>=1.0 in /usr/local/lib/python3.7/dist-packages (from seaborn>=0.11.1->nxviz==0.6.3) (1.7.3)\n",
            "Installing collected packages: fonttools, matplotlib, nxviz\n",
            "  Attempting uninstall: matplotlib\n",
            "    Found existing installation: matplotlib 3.2.2\n",
            "    Uninstalling matplotlib-3.2.2:\n",
            "      Successfully uninstalled matplotlib-3.2.2\n",
            "Successfully installed fonttools-4.38.0 matplotlib-3.5.3 nxviz-0.6.3\n"
          ]
        },
        {
          "output_type": "display_data",
          "data": {
            "application/vnd.colab-display-data+json": {
              "pip_warning": {
                "packages": [
                  "matplotlib",
                  "mpl_toolkits"
                ]
              }
            }
          },
          "metadata": {}
        }
      ],
      "source": [
        "!pip install nxviz=='0.6.3'"
      ]
    },
    {
      "cell_type": "code",
      "source": [
        "import networkx as nx\n",
        "import matplotlib.pyplot as plt\n",
        "import numpy as np\n",
        "import nxviz as nv\n",
        "import seaborn as sns"
      ],
      "metadata": {
        "id": "2hWKMwwJPrZg"
      },
      "execution_count": 1,
      "outputs": []
    },
    {
      "cell_type": "code",
      "source": [
        "G = nx.read_graphml('/content/drive/MyDrive/dataset-flights-brazil-main/dataset-flights-brazil-main/data/air_traffic.graphml')"
      ],
      "metadata": {
        "id": "YwCY-ngNQMxe"
      },
      "execution_count": 2,
      "outputs": []
    },
    {
      "cell_type": "code",
      "source": [
        "ar_brazil = []\n",
        "for node in G.nodes():\n",
        "  if G.nodes[node]['country'] == 'BRASIL':\n",
        "    ar_brazil.append(node)\n",
        "\n",
        "airports_brazil = G.subgraph(ar_brazil)\n"
      ],
      "metadata": {
        "id": "t3Cj0Se1WQic"
      },
      "execution_count": 3,
      "outputs": []
    },
    {
      "cell_type": "markdown",
      "source": [
        "#Assortatividade"
      ],
      "metadata": {
        "id": "9415U98w9Jja"
      }
    },
    {
      "cell_type": "markdown",
      "source": [
        "A assortativadade é uma metrica utilizada para avaliar a homofilia, que por sua vez indica a tendência de semelhantes se relacionarem/agruparem, um proverbio utilizado para descrever a homofilia ,do inglês, \"birds of a feather flock\n",
        "together\", traduzindo para o português, \"os pássaros da mesma pena voam juntos\".\n",
        "\n",
        "Em uma rede assortativa nós que possuem atributos em comum possuem uma maior probalidade de se conectarem.\n",
        "\n",
        "Quanto mais próximo de 1, mais assortativa é a rede, quanto mais proxima de -1 menos assortativa é a rede.\n"
      ],
      "metadata": {
        "id": "pX6Iw8-8A6ZS"
      }
    },
    {
      "cell_type": "markdown",
      "source": [
        "## Gráfico considerando como grupo os aeroportos por região"
      ],
      "metadata": {
        "id": "U9fjPYa1GKxs"
      }
    },
    {
      "cell_type": "code",
      "source": [
        "c = nv.CircosPlot(airports_brazil,\n",
        "                  node_color=\"region\",\n",
        "                  node_grouping=\"region\",\n",
        "                  node_order=\"region\",\n",
        "                  group_order=\"alphabetically\",\n",
        "                  group_legend=False,\n",
        "                  node_labels=False,\n",
        "                  group_label_position=\"middle\",\n",
        "                  group_label_color=False,figsize=(10,8))\n",
        "\n",
        "\n",
        "c.draw()\n",
        "\n",
        "\n",
        "\n",
        "# Save figure\n",
        "plt.savefig(\"assortativity.png\", \n",
        "            format=\"png\",\n",
        "            dpi=400, \n",
        "            bbox_inches=\"tight\",\n",
        "            transparent=True)\n",
        "\n",
        "# Display graph\n",
        "plt.show()\n"
      ],
      "metadata": {
        "colab": {
          "base_uri": "https://localhost:8080/",
          "height": 466
        },
        "id": "Ppq3ED2qQzae",
        "outputId": "0db2adf3-8727-47fb-ad96-9e13d3534fee"
      },
      "execution_count": 4,
      "outputs": [
        {
          "output_type": "display_data",
          "data": {
            "text/plain": [
              "<Figure size 720x576 with 1 Axes>"
            ],
            "image/png": "[encoded data removed]"
          },
          "metadata": {}
        }
      ]
    },
    {
      "cell_type": "code",
      "source": [
        "nx.attribute_assortativity_coefficient(airports_brazil, 'region')"
      ],
      "metadata": {
        "colab": {
          "base_uri": "https://localhost:8080/"
        },
        "id": "w6Yd6FSq9bN9",
        "outputId": "370bde90-055c-4987-a5fe-5e63b746a6d8"
      },
      "execution_count": 5,
      "outputs": [
        {
          "output_type": "execute_result",
          "data": {
            "text/plain": [
              "0.36858192263245576"
            ]
          },
          "metadata": {},
          "execution_count": 5
        }
      ]
    },
    {
      "cell_type": "markdown",
      "source": [
        "-1 < Coeficente, rede assortativa."
      ],
      "metadata": {
        "id": "hndZqluKGc6E"
      }
    },
    {
      "cell_type": "code",
      "source": [
        "mixing_matrix = nx.attribute_mixing_matrix(airports_brazil,'region')\n",
        "mixing_matrix"
      ],
      "metadata": {
        "colab": {
          "base_uri": "https://localhost:8080/"
        },
        "id": "crNS6a6m-BnF",
        "outputId": "0964c57f-ca0b-435e-a690-b42ca01297b1"
      },
      "execution_count": 6,
      "outputs": [
        {
          "output_type": "execute_result",
          "data": {
            "text/plain": [
              "array([[0.0802305 , 0.0106383 , 0.01983599, 0.05529699, 0.01340869],\n",
              "       [0.0106383 , 0.04986702, 0.02393617, 0.03291223, 0.01252216],\n",
              "       [0.01983599, 0.02393617, 0.13652482, 0.02870124, 0.00742465],\n",
              "       [0.05529699, 0.03291223, 0.02870124, 0.17242908, 0.03989362],\n",
              "       [0.01340869, 0.01252216, 0.00742465, 0.03989362, 0.07180851]])"
            ]
          },
          "metadata": {},
          "execution_count": 6
        }
      ]
    },
    {
      "cell_type": "markdown",
      "source": [
        "A matriz mostra a probabilidade da conexão entre os nós, considerando a região, nota-se a ocorrência de uma maior probabilidade nos elementos que compõem a diagonal principal, ou seja, conexão entre os aeroportos da mesma região. O que já era esperado, devido a homofilia. "
      ],
      "metadata": {
        "id": "qZXV6cLOHc2-"
      }
    },
    {
      "cell_type": "markdown",
      "source": [
        "# Análise bivariada "
      ],
      "metadata": {
        "id": "x0G7WG_n_6E8"
      }
    },
    {
      "cell_type": "markdown",
      "source": [
        "Essa análise foi realizada utilizando a correlação entre os graus dos nós, considerando o grau do nó e a média dos graus dos vizinhos, para o Brasil e as suas regiões, os resultados das analises são semelhantes, quando o grau do nó aumenta a medía dos graus dos vizinhos diminui. Considerando o coefiente de asssortivadade do grau da rede em todos os casos, Brasil e regiões, o valor do coeficiente foi negativo, isso representa uma rede desassortativa, um resultado esperado para aeroportos(aeroportos têm que estarem conectados com aeroportos de outras regiões).  "
      ],
      "metadata": {
        "id": "m2vUwd9tLaHN"
      }
    },
    {
      "cell_type": "markdown",
      "source": [
        "## Brasil"
      ],
      "metadata": {
        "id": "kz3eSEuzBh3s"
      }
    },
    {
      "cell_type": "code",
      "source": [
        "#Brasil\n",
        "# average degree of neighbors\n",
        "degree_br, avg_neigh_degree_br = zip(*nx.average_degree_connectivity(airports_brazil).items())\n",
        "\n",
        "# convert to list\n",
        "degree_br = list(degree_br)\n",
        "avg_neigh_degree_br = list(avg_neigh_degree_br)\n",
        "\n",
        "plt.style.use(\"fivethirtyeight\")\n",
        "fig, ax = plt.subplots(1,1,figsize=(12,8))\n",
        "\n",
        "sns.regplot(degree_br,avg_neigh_degree_br,ax=ax)\n",
        "\n",
        "ax.set_xlabel(\"Node Degree\")\n",
        "ax.set_ylabel(\"Average neigbhor degree_br\")\n",
        "ax.set_xlim(0,65)\n",
        "\n",
        "# Save figure\n",
        "plt.savefig(\"degree_assortativity.png\", \n",
        "            format=\"png\",\n",
        "            dpi=400, \n",
        "            bbox_inches=\"tight\",\n",
        "            transparent=True)\n",
        "\n",
        "plt.show()"
      ],
      "metadata": {
        "colab": {
          "base_uri": "https://localhost:8080/",
          "height": 592
        },
        "id": "Zo_YlQCQ_Use",
        "outputId": "e54bcb20-8277-42c5-ca5b-9aac4582bdb3"
      },
      "execution_count": 7,
      "outputs": [
        {
          "output_type": "stream",
          "name": "stderr",
          "text": [
            "/usr/local/lib/python3.7/dist-packages/seaborn/_decorators.py:43: FutureWarning: Pass the following variables as keyword args: x, y. From version 0.12, the only valid positional argument will be `data`, and passing other arguments without an explicit keyword will result in an error or misinterpretation.\n",
            "  FutureWarning\n"
          ]
        },
        {
          "output_type": "display_data",
          "data": {
            "text/plain": [
              "<Figure size 864x576 with 1 Axes>"
            ],
            "image/png": "[encoded data removed]"
          },
          "metadata": {}
        }
      ]
    },
    {
      "cell_type": "code",
      "source": [
        "nx.degree_assortativity_coefficient(airports_brazil)"
      ],
      "metadata": {
        "colab": {
          "base_uri": "https://localhost:8080/"
        },
        "id": "WVbK9B9LCK0l",
        "outputId": "4b291aa1-8390-4631-9962-8ac31eaa8e9d"
      },
      "execution_count": 8,
      "outputs": [
        {
          "output_type": "execute_result",
          "data": {
            "text/plain": [
              "-0.19522933769365391"
            ]
          },
          "metadata": {},
          "execution_count": 8
        }
      ]
    },
    {
      "cell_type": "markdown",
      "source": [
        "## Região norte"
      ],
      "metadata": {
        "id": "RWOuZH-nCbYM"
      }
    },
    {
      "cell_type": "code",
      "source": [
        "Norte = []\n",
        "for node in airports_brazil.nodes():\n",
        "  if airports_brazil.nodes[node]['region'] == 'NORTE':\n",
        "    Norte.append(node)\n",
        "north_region =  airports_brazil.subgraph(Norte)"
      ],
      "metadata": {
        "id": "cA6552nhCgsN"
      },
      "execution_count": 9,
      "outputs": []
    },
    {
      "cell_type": "code",
      "source": [
        "degree_north, avg_neigh_degree_north = zip(*nx.average_degree_connectivity(north_region).items())\n",
        "\n",
        "# convert to list\n",
        "degree_north = list(degree_north)\n",
        "avg_neigh_degree_north = list(avg_neigh_degree_north)\n",
        "\n",
        "plt.style.use(\"fivethirtyeight\")\n",
        "fig, ax = plt.subplots(1,1,figsize=(12,8))\n",
        "\n",
        "sns.regplot(degree_north,avg_neigh_degree_north,ax=ax)\n",
        "\n",
        "ax.set_xlabel(\"Node Degree\")\n",
        "ax.set_ylabel(\"Average neigbhor degree_north\")\n",
        "ax.set_xlim(0,65)\n",
        "\n",
        "# Save figure\n",
        "plt.savefig(\"degree_assortativity.png\", \n",
        "            format=\"png\",\n",
        "            dpi=400, \n",
        "            bbox_inches=\"tight\",\n",
        "            transparent=True)\n",
        "\n",
        "plt.show()"
      ],
      "metadata": {
        "colab": {
          "base_uri": "https://localhost:8080/",
          "height": 592
        },
        "id": "s8xIDfdYDUfD",
        "outputId": "2335cceb-e8ee-4535-d3f3-58a5a8c4963b"
      },
      "execution_count": 10,
      "outputs": [
        {
          "output_type": "stream",
          "name": "stderr",
          "text": [
            "/usr/local/lib/python3.7/dist-packages/seaborn/_decorators.py:43: FutureWarning: Pass the following variables as keyword args: x, y. From version 0.12, the only valid positional argument will be `data`, and passing other arguments without an explicit keyword will result in an error or misinterpretation.\n",
            "  FutureWarning\n"
          ]
        },
        {
          "output_type": "display_data",
          "data": {
            "text/plain": [
              "<Figure size 864x576 with 1 Axes>"
            ],
            "image/png": "[encoded data removed]"
          },
          "metadata": {}
        }
      ]
    },
    {
      "cell_type": "code",
      "source": [
        "nx.degree_assortativity_coefficient(north_region)"
      ],
      "metadata": {
        "colab": {
          "base_uri": "https://localhost:8080/"
        },
        "id": "abUAUqU5DyqT",
        "outputId": "29fc02b0-a1d7-41a9-f5e4-e57dfaec9494"
      },
      "execution_count": 11,
      "outputs": [
        {
          "output_type": "execute_result",
          "data": {
            "text/plain": [
              "-0.2177920212034003"
            ]
          },
          "metadata": {},
          "execution_count": 11
        }
      ]
    },
    {
      "cell_type": "markdown",
      "source": [
        "## Região nordeste"
      ],
      "metadata": {
        "id": "p48JBlyxD5iL"
      }
    },
    {
      "cell_type": "code",
      "source": [
        "Nordeste = []\n",
        "for node in airports_brazil.nodes():\n",
        "  if airports_brazil.nodes[node]['region'] == 'NORDESTE':\n",
        "    Nordeste.append(node)\n",
        "northeast_region =  airports_brazil.subgraph(Nordeste)\n"
      ],
      "metadata": {
        "id": "A5zm9I9pD-cx"
      },
      "execution_count": 12,
      "outputs": []
    },
    {
      "cell_type": "code",
      "source": [
        "degree_northeast, avg_neigh_degree_northeast = zip(*nx.average_degree_connectivity(northeast_region).items())\n",
        "\n",
        "# convert to list\n",
        "degree_northeast = list(degree_northeast)\n",
        "avg_neigh_degree_northeast = list(avg_neigh_degree_northeast)\n",
        "\n",
        "plt.style.use(\"fivethirtyeight\")\n",
        "fig, ax = plt.subplots(1,1,figsize=(12,8))\n",
        "\n",
        "sns.regplot(degree_northeast,avg_neigh_degree_northeast,ax=ax)\n",
        "\n",
        "ax.set_xlabel(\"Node Degree\")\n",
        "ax.set_ylabel(\"Average neigbhor degree_northeast\")\n",
        "ax.set_xlim(0,65)\n",
        "\n",
        "# Save figure\n",
        "plt.savefig(\"degree_assortativity.png\", \n",
        "            format=\"png\",\n",
        "            dpi=400, \n",
        "            bbox_inches=\"tight\",\n",
        "            transparent=True)\n",
        "\n",
        "plt.show()"
      ],
      "metadata": {
        "colab": {
          "base_uri": "https://localhost:8080/",
          "height": 592
        },
        "id": "kgm0Uy_oEWHr",
        "outputId": "3bbfc3ed-1b4f-4d26-8930-9d2258778d04"
      },
      "execution_count": 13,
      "outputs": [
        {
          "output_type": "stream",
          "name": "stderr",
          "text": [
            "/usr/local/lib/python3.7/dist-packages/seaborn/_decorators.py:43: FutureWarning: Pass the following variables as keyword args: x, y. From version 0.12, the only valid positional argument will be `data`, and passing other arguments without an explicit keyword will result in an error or misinterpretation.\n",
            "  FutureWarning\n"
          ]
        },
        {
          "output_type": "display_data",
          "data": {
            "text/plain": [
              "<Figure size 864x576 with 1 Axes>"
            ],
            "image/png": "[encoded data removed]"
          },
          "metadata": {}
        }
      ]
    },
    {
      "cell_type": "code",
      "source": [
        "nx.degree_assortativity_coefficient(northeast_region)"
      ],
      "metadata": {
        "colab": {
          "base_uri": "https://localhost:8080/"
        },
        "id": "wUBmvq_pFdWl",
        "outputId": "bb66fa59-f54c-4f54-d56a-8d782da036d9"
      },
      "execution_count": 14,
      "outputs": [
        {
          "output_type": "execute_result",
          "data": {
            "text/plain": [
              "-0.31740910282280993"
            ]
          },
          "metadata": {},
          "execution_count": 14
        }
      ]
    },
    {
      "cell_type": "markdown",
      "source": [
        "## Região sudeste"
      ],
      "metadata": {
        "id": "VrV8AHfaFVan"
      }
    },
    {
      "cell_type": "code",
      "source": [
        "Sudeste = []\n",
        "for node in airports_brazil.nodes():\n",
        "  if airports_brazil.nodes[node]['region'] == 'SUDESTE':\n",
        "    Sudeste.append(node)\n",
        "southeast_region =  airports_brazil.subgraph(Sudeste)\n"
      ],
      "metadata": {
        "id": "i4dh2zTvFT4A"
      },
      "execution_count": 15,
      "outputs": []
    },
    {
      "cell_type": "code",
      "source": [
        "degree_southeast, avg_neigh_degree_southeast = zip(*nx.average_degree_connectivity(southeast_region).items())\n",
        "\n",
        "# convert to list\n",
        "degree_southeast = list(degree_southeast)\n",
        "avg_neigh_degree_southeast = list(avg_neigh_degree_southeast)\n",
        "\n",
        "plt.style.use(\"fivethirtyeight\")\n",
        "fig, ax = plt.subplots(1,1,figsize=(12,8))\n",
        "\n",
        "sns.regplot(degree_southeast,avg_neigh_degree_southeast,ax=ax)\n",
        "\n",
        "ax.set_xlabel(\"Node Degree\")\n",
        "ax.set_ylabel(\"Average neigbhor degree_southeast\")\n",
        "ax.set_xlim(0,65)\n",
        "\n",
        "# Save figure\n",
        "plt.savefig(\"degree_assortativity.png\", \n",
        "            format=\"png\",\n",
        "            dpi=400, \n",
        "            bbox_inches=\"tight\",\n",
        "            transparent=True)\n",
        "\n",
        "plt.show()"
      ],
      "metadata": {
        "colab": {
          "base_uri": "https://localhost:8080/",
          "height": 592
        },
        "id": "m7_Nfgm7GL0c",
        "outputId": "3ac8481b-c1fd-426d-c108-7aa846d3229c"
      },
      "execution_count": 18,
      "outputs": [
        {
          "output_type": "stream",
          "name": "stderr",
          "text": [
            "/usr/local/lib/python3.7/dist-packages/seaborn/_decorators.py:43: FutureWarning: Pass the following variables as keyword args: x, y. From version 0.12, the only valid positional argument will be `data`, and passing other arguments without an explicit keyword will result in an error or misinterpretation.\n",
            "  FutureWarning\n"
          ]
        },
        {
          "output_type": "display_data",
          "data": {
            "text/plain": [
              "<Figure size 864x576 with 1 Axes>"
            ],
            "image/png": "[encoded data removed]"
          },
          "metadata": {}
        }
      ]
    },
    {
      "cell_type": "code",
      "source": [
        "nx.degree_assortativity_coefficient(southeast_region)"
      ],
      "metadata": {
        "colab": {
          "base_uri": "https://localhost:8080/"
        },
        "id": "z4Dmc5f2G2SU",
        "outputId": "a8149ad9-ab57-4ea0-9e12-b1d3a162f913"
      },
      "execution_count": 17,
      "outputs": [
        {
          "output_type": "execute_result",
          "data": {
            "text/plain": [
              "-0.3708675811720464"
            ]
          },
          "metadata": {},
          "execution_count": 17
        }
      ]
    },
    {
      "cell_type": "markdown",
      "source": [
        "## Região Sul"
      ],
      "metadata": {
        "id": "biZpWF8RG-a7"
      }
    },
    {
      "cell_type": "code",
      "source": [
        "Sul = []\n",
        "for node in airports_brazil.nodes():\n",
        "  if airports_brazil.nodes[node]['region'] == 'SUL':\n",
        "    Sul.append(node)\n",
        "south_region =  airports_brazil.subgraph(Sul)"
      ],
      "metadata": {
        "id": "gDX0WkM6HEHk"
      },
      "execution_count": 19,
      "outputs": []
    },
    {
      "cell_type": "code",
      "source": [
        "degree_south, avg_neigh_degree_south = zip(*nx.average_degree_connectivity(south_region).items())\n",
        "\n",
        "# convert to list\n",
        "degree_south = list(degree_south)\n",
        "avg_neigh_degree_south = list(avg_neigh_degree_south)\n",
        "\n",
        "plt.style.use(\"fivethirtyeight\")\n",
        "fig, ax = plt.subplots(1,1,figsize=(12,8))\n",
        "\n",
        "sns.regplot(degree_south,avg_neigh_degree_south,ax=ax)\n",
        "\n",
        "ax.set_xlabel(\"Node Degree\")\n",
        "ax.set_ylabel(\"Average neigbhor degree_south\")\n",
        "ax.set_xlim(0,65)\n",
        "\n",
        "# Save figure\n",
        "plt.savefig(\"degree_assortativity.png\", \n",
        "            format=\"png\",\n",
        "            dpi=400, \n",
        "            bbox_inches=\"tight\",\n",
        "            transparent=True)\n",
        "\n",
        "plt.show()"
      ],
      "metadata": {
        "colab": {
          "base_uri": "https://localhost:8080/",
          "height": 592
        },
        "id": "tuSNt0dMHweC",
        "outputId": "5046b4f9-0aab-49cb-8bb4-b8440f80b882"
      },
      "execution_count": 20,
      "outputs": [
        {
          "output_type": "stream",
          "name": "stderr",
          "text": [
            "/usr/local/lib/python3.7/dist-packages/seaborn/_decorators.py:43: FutureWarning: Pass the following variables as keyword args: x, y. From version 0.12, the only valid positional argument will be `data`, and passing other arguments without an explicit keyword will result in an error or misinterpretation.\n",
            "  FutureWarning\n"
          ]
        },
        {
          "output_type": "display_data",
          "data": {
            "text/plain": [
              "<Figure size 864x576 with 1 Axes>"
            ],
            "image/png": "[encoded data removed]"
          },
          "metadata": {}
        }
      ]
    },
    {
      "cell_type": "code",
      "source": [
        "nx.degree_assortativity_coefficient(south_region)"
      ],
      "metadata": {
        "colab": {
          "base_uri": "https://localhost:8080/"
        },
        "id": "QLshCBquIQzv",
        "outputId": "145c7f87-a90e-44f8-8e3c-0136df23c23f"
      },
      "execution_count": 21,
      "outputs": [
        {
          "output_type": "execute_result",
          "data": {
            "text/plain": [
              "-0.3586586878829849"
            ]
          },
          "metadata": {},
          "execution_count": 21
        }
      ]
    },
    {
      "cell_type": "markdown",
      "source": [
        "## Região centro-oeste"
      ],
      "metadata": {
        "id": "f11sIlGTIbGW"
      }
    },
    {
      "cell_type": "code",
      "source": [
        "Centro = []\n",
        "for node in airports_brazil.nodes():\n",
        "  if airports_brazil.nodes[node]['region'] == 'CENTRO-OESTE':\n",
        "    Centro.append(node)\n",
        "midwest_region =  airports_brazil.subgraph(Centro)\n"
      ],
      "metadata": {
        "id": "B7kOcoOrIfdG"
      },
      "execution_count": 22,
      "outputs": []
    },
    {
      "cell_type": "code",
      "source": [
        "degree_midwest, avg_neigh_degree_midwest = zip(*nx.average_degree_connectivity(midwest_region).items())\n",
        "\n",
        "# convert to list\n",
        "degree_midwest = list(degree_midwest)\n",
        "avg_neigh_degree_midwest = list(avg_neigh_degree_midwest)\n",
        "\n",
        "plt.style.use(\"fivethirtyeight\")\n",
        "fig, ax = plt.subplots(1,1,figsize=(12,8))\n",
        "\n",
        "sns.regplot(degree_midwest,avg_neigh_degree_midwest,ax=ax)\n",
        "\n",
        "ax.set_xlabel(\"Node Degree\")\n",
        "ax.set_ylabel(\"Average neigbhor degree_midwest\")\n",
        "ax.set_xlim(0,65)\n",
        "\n",
        "# Save figure\n",
        "plt.savefig(\"degree_assortativity.png\", \n",
        "            format=\"png\",\n",
        "            dpi=400, \n",
        "            bbox_inches=\"tight\",\n",
        "            transparent=True)\n",
        "\n",
        "plt.show()"
      ],
      "metadata": {
        "colab": {
          "base_uri": "https://localhost:8080/",
          "height": 592
        },
        "id": "SBLg5XVzIwmg",
        "outputId": "2fc65804-dca7-4539-cb64-82cf0e1f8c34"
      },
      "execution_count": 23,
      "outputs": [
        {
          "output_type": "stream",
          "name": "stderr",
          "text": [
            "/usr/local/lib/python3.7/dist-packages/seaborn/_decorators.py:43: FutureWarning: Pass the following variables as keyword args: x, y. From version 0.12, the only valid positional argument will be `data`, and passing other arguments without an explicit keyword will result in an error or misinterpretation.\n",
            "  FutureWarning\n"
          ]
        },
        {
          "output_type": "display_data",
          "data": {
            "text/plain": [
              "<Figure size 864x576 with 1 Axes>"
            ],
            "image/png": "[encoded data removed]"
          },
          "metadata": {}
        }
      ]
    },
    {
      "cell_type": "code",
      "source": [
        "nx.degree_assortativity_coefficient(midwest_region)"
      ],
      "metadata": {
        "colab": {
          "base_uri": "https://localhost:8080/"
        },
        "id": "rJmbIU5nI7HL",
        "outputId": "c7e3f0eb-d919-42dd-9055-b837616e017e"
      },
      "execution_count": 24,
      "outputs": [
        {
          "output_type": "execute_result",
          "data": {
            "text/plain": [
              "-0.35656661170467585"
            ]
          },
          "metadata": {},
          "execution_count": 24
        }
      ]
    },
    {
      "cell_type": "markdown",
      "source": [
        "# Caminho mais curto"
      ],
      "metadata": {
        "id": "LB6VesUbJB94"
      }
    },
    {
      "cell_type": "code",
      "source": [
        "Caminho mais curto é definido pelo menor número de arestas percorridas do nó origem até ao nó destino. \n",
        "Para essa análise foi selecionada uma cidade de cada região e avaliado o caminho mais curto entre elas na seguinte ordem: \n",
        "Norte -> Sul -> Nordeste -> Centro-oeste -> Sudeste "
      ],
      "metadata": {
        "id": "AFCDB2T7O_Oh"
      },
      "execution_count": null,
      "outputs": []
    },
    {
      "cell_type": "code",
      "source": [
        "#Destinos\n",
        "\n",
        "cidade_norte = 'SBEG' #Manaus\n",
        "cidade_sul = 'SBPA'   #Porto Alegre\n",
        "cidade_nordeste = 'SBSV' #Salvador\n",
        "cidade_centro = 'SBCF' #Belo horizonte\n",
        "cidade_sudeste = 'SBRJ' #Rio de Janeiro"
      ],
      "metadata": {
        "id": "1QSa2BwF_yxn"
      },
      "execution_count": 25,
      "outputs": []
    },
    {
      "cell_type": "code",
      "source": [
        "caminho1 = nx.shortest_path(airports_brazil, cidade_norte, cidade_sul)\n",
        "caminho1"
      ],
      "metadata": {
        "colab": {
          "base_uri": "https://localhost:8080/"
        },
        "id": "iTBApCHTBusH",
        "outputId": "035665e4-56d8-4b08-d5a9-d49b5e41d013"
      },
      "execution_count": 26,
      "outputs": [
        {
          "output_type": "execute_result",
          "data": {
            "text/plain": [
              "['SBEG', 'SBPA']"
            ]
          },
          "metadata": {},
          "execution_count": 26
        }
      ]
    },
    {
      "cell_type": "code",
      "source": [
        "caminho2 = nx.shortest_path(airports_brazil, cidade_sul, cidade_nordeste)\n",
        "caminho2"
      ],
      "metadata": {
        "colab": {
          "base_uri": "https://localhost:8080/"
        },
        "id": "X2qa0pwnCH1J",
        "outputId": "f091128a-9b74-448c-994b-5caec07c23ec"
      },
      "execution_count": 27,
      "outputs": [
        {
          "output_type": "execute_result",
          "data": {
            "text/plain": [
              "['SBPA', 'SBSV']"
            ]
          },
          "metadata": {},
          "execution_count": 27
        }
      ]
    },
    {
      "cell_type": "code",
      "source": [
        "caminho3 = nx.shortest_path(airports_brazil, cidade_nordeste, cidade_centro)\n",
        "caminho3"
      ],
      "metadata": {
        "colab": {
          "base_uri": "https://localhost:8080/"
        },
        "id": "3eP3wQe1Caww",
        "outputId": "ba056fcc-1fea-444f-f764-205a39ae957e"
      },
      "execution_count": 28,
      "outputs": [
        {
          "output_type": "execute_result",
          "data": {
            "text/plain": [
              "['SBSV', 'SBCF']"
            ]
          },
          "metadata": {},
          "execution_count": 28
        }
      ]
    },
    {
      "cell_type": "code",
      "source": [
        "caminho4 = nx.shortest_path(airports_brazil, cidade_centro, cidade_sudeste)\n",
        "caminho4"
      ],
      "metadata": {
        "colab": {
          "base_uri": "https://localhost:8080/"
        },
        "id": "QUfcZJCXCr1C",
        "outputId": "2de9a12f-662f-466e-9eb3-b639d8584950"
      },
      "execution_count": 29,
      "outputs": [
        {
          "output_type": "execute_result",
          "data": {
            "text/plain": [
              "['SBCF', 'SBRJ']"
            ]
          },
          "metadata": {},
          "execution_count": 29
        }
      ]
    },
    {
      "cell_type": "markdown",
      "source": [
        "Todas cidades escolhidas foram capitais, o comprimento do caminho mais curto indica nesse caso que existe uma conexão direta entre todos os aeroportos das cidades escolhidas. "
      ],
      "metadata": {
        "id": "pKEUT2HMADey"
      }
    },
    {
      "cell_type": "markdown",
      "source": [
        "# Coeficiente de Clustering"
      ],
      "metadata": {
        "id": "u6lBRwe4DZVn"
      }
    },
    {
      "cell_type": "markdown",
      "source": [
        "O coeficiente de clusteting mede o quão próximo está um nó ou uma rede de uma topologia estrela , isto é se os elementos de uma rede ego estão conectados entre si. Caso o coeficiente de clustering seja 1, ele possui uma topologia estrela, todos os elementos da rede ego estão conectados entre si.\n",
        "Para essa análise todos o coeficentes, Brasil e regiões, as médias dos coeficientes clustering são menores que 1. A região com a maior média é a região sudeste, o que é esperado pois a região concentra o maior número de aeroportos.  "
      ],
      "metadata": {
        "id": "OtwfZvUpUonw"
      }
    },
    {
      "cell_type": "markdown",
      "source": [
        "## Brasil"
      ],
      "metadata": {
        "id": "uSztIrXpIeZr"
      }
    },
    {
      "cell_type": "code",
      "source": [
        "nx.triangles(airports_brazil)"
      ],
      "metadata": {
        "colab": {
          "base_uri": "https://localhost:8080/"
        },
        "id": "8O_H9HDYDzVO",
        "outputId": "cef05485-072c-425b-f27a-23de6b48d121"
      },
      "execution_count": 30,
      "outputs": [
        {
          "output_type": "execute_result",
          "data": {
            "text/plain": [
              "{'SBAF': 8,\n",
              " 'SDMC': 6,\n",
              " 'SSLS': 1,\n",
              " 'SSGG': 1,\n",
              " 'SWJH': 28,\n",
              " 'SBJA': 108,\n",
              " 'SWWA': 2,\n",
              " 'SNQY': 107,\n",
              " 'SWLB': 49,\n",
              " 'SBAS': 152,\n",
              " 'SNPJ': 8,\n",
              " 'SNGA': 0,\n",
              " 'SDTK': 41,\n",
              " 'SSUW': 36,\n",
              " 'SBAV': 3,\n",
              " 'SWPJ': 1,\n",
              " 'SNOX': 96,\n",
              " 'SBPV': 1192,\n",
              " 'SBYA': 1,\n",
              " 'SNVS': 48,\n",
              " 'SNML': 0,\n",
              " 'SBMN': 327,\n",
              " 'SBVH': 258,\n",
              " 'SWCP': 3,\n",
              " 'SBCN': 257,\n",
              " 'SNBA': 75,\n",
              " 'SWPC': 0,\n",
              " 'SSCP': 5,\n",
              " 'SBJH': 0,\n",
              " 'SSUM': 15,\n",
              " 'SDH2': 9,\n",
              " 'SNHS': 1,\n",
              " 'SBTE': 1032,\n",
              " 'SIZX': 13,\n",
              " 'SNWS': 0,\n",
              " 'SBDN': 1087,\n",
              " 'SSBE': 0,\n",
              " 'SNKE': 29,\n",
              " 'SWBZ': 18,\n",
              " 'SBMK': 975,\n",
              " 'SWRP': 25,\n",
              " 'SWBI': 5,\n",
              " 'SBBQ': 17,\n",
              " 'SWXM': 6,\n",
              " 'SWLF': 0,\n",
              " 'SBMC': 52,\n",
              " 'SNAT': 18,\n",
              " 'SNMU': 137,\n",
              " 'SSVL': 4,\n",
              " 'SJKB': 9,\n",
              " 'SWCB': 0,\n",
              " 'SNTF': 52,\n",
              " 'SBTV': 6,\n",
              " 'SBCV': 87,\n",
              " 'SWCA': 51,\n",
              " 'SBAX': 301,\n",
              " 'SBGP': 28,\n",
              " 'SNBV': 1,\n",
              " 'SWUQ': 7,\n",
              " 'SSLT': 7,\n",
              " 'SJCW': 0,\n",
              " 'SSKW': 58,\n",
              " 'SBPC': 50,\n",
              " 'SDOV': 1,\n",
              " 'SBDB': 53,\n",
              " 'SNGV': 108,\n",
              " 'SNGI': 38,\n",
              " 'SWJP': 15,\n",
              " 'SNMZ': 41,\n",
              " 'SBBT': 206,\n",
              " 'SWBE': 0,\n",
              " 'SBCF': 2459,\n",
              " 'SWJN': 43,\n",
              " 'SIXE': 0,\n",
              " 'SBAC': 9,\n",
              " 'SWTU': 17,\n",
              " 'SBMY': 33,\n",
              " 'SBJR': 129,\n",
              " 'SNMJ': 0,\n",
              " 'SSIJ': 3,\n",
              " 'SBML': 645,\n",
              " 'SNXL': 1,\n",
              " 'SNBX': 0,\n",
              " 'SBPJ': 1256,\n",
              " 'SIRI': 1,\n",
              " 'SBVT': 1817,\n",
              " 'SBKP': 2756,\n",
              " 'SWHT': 41,\n",
              " 'SNBG': 0,\n",
              " 'SNRJ': 21,\n",
              " 'SDOW': 64,\n",
              " 'SNIP': 1,\n",
              " 'SBPB': 177,\n",
              " 'SBCX': 502,\n",
              " 'SWBC': 21,\n",
              " 'SBSG': 803,\n",
              " 'SWAE': 3,\n",
              " 'SWDM': 2,\n",
              " 'SSZR': 44,\n",
              " 'SBTF': 221,\n",
              " 'SNQD': 39,\n",
              " 'SWCQ': 1,\n",
              " 'SSDO': 187,\n",
              " 'SWJU': 18,\n",
              " 'SWNA': 8,\n",
              " 'SNJB': 1,\n",
              " 'SBRD': 100,\n",
              " 'SBZM': 177,\n",
              " 'SBAE': 732,\n",
              " 'SWNH': 1,\n",
              " 'SWCI': 6,\n",
              " 'SWBG': 3,\n",
              " 'SDAA': 12,\n",
              " 'SWOW': 1,\n",
              " 'SSCL': 0,\n",
              " 'SBHT': 539,\n",
              " 'SWFX': 110,\n",
              " 'SWPQ': 6,\n",
              " 'SBST': 33,\n",
              " 'SDJA': 0,\n",
              " 'SBCZ': 160,\n",
              " 'SDZC': 0,\n",
              " 'SNMH': 1,\n",
              " 'SSFB': 31,\n",
              " 'SNBI': 1,\n",
              " 'SWUY': 38,\n",
              " 'SJUR': 14,\n",
              " 'SJGU': 0,\n",
              " 'SWNS': 7,\n",
              " 'SSPI': 1,\n",
              " 'SBAG': 38,\n",
              " 'SWJI': 334,\n",
              " 'SBTD': 78,\n",
              " 'SSVI': 54,\n",
              " 'SNAR': 6,\n",
              " 'SWMK': 1,\n",
              " 'SBCO': 1,\n",
              " 'SSCK': 46,\n",
              " 'SSND': 3,\n",
              " 'SNOS': 4,\n",
              " 'SBTS': 17,\n",
              " 'SWII': 15,\n",
              " 'SBCG': 1677,\n",
              " 'SWNO': 12,\n",
              " 'SNPX': 6,\n",
              " 'SBIP': 644,\n",
              " 'SWJQ': 0,\n",
              " 'SBNT': 1540,\n",
              " 'SBAQ': 494,\n",
              " 'SBNM': 175,\n",
              " 'SBGR': 2938,\n",
              " 'SNGX': 3,\n",
              " 'SDIM': 0,\n",
              " 'SNIC': 1,\n",
              " 'SWFN': 45,\n",
              " 'SNCC': 1,\n",
              " 'SBPL': 801,\n",
              " 'SNBW': 1,\n",
              " 'SBAN': 28,\n",
              " 'SSTD': 28,\n",
              " 'SWQR': 5,\n",
              " 'SWPH': 3,\n",
              " 'SBSP': 2774,\n",
              " 'SBCY': 2013,\n",
              " 'SWWU': 0,\n",
              " 'SBUF': 91,\n",
              " 'SNDC': 130,\n",
              " 'SNBR': 337,\n",
              " 'SNDB': 3,\n",
              " 'SWNQ': 9,\n",
              " 'SNAV': 0,\n",
              " 'SDLK': 0,\n",
              " 'SJTC': 196,\n",
              " 'SNNG': 36,\n",
              " 'SWTS': 12,\n",
              " 'SWMW': 42,\n",
              " 'SNDH': 1,\n",
              " 'SBME': 311,\n",
              " 'SJLM': 0,\n",
              " 'SBJF': 334,\n",
              " 'SBSO': 65,\n",
              " 'SWNK': 34,\n",
              " 'SSKM': 4,\n",
              " 'SSSC': 0,\n",
              " 'SBAT': 419,\n",
              " 'SDDM': 1,\n",
              " 'SWIQ': 17,\n",
              " 'SNYA': 42,\n",
              " 'SBPF': 363,\n",
              " 'SNLO': 0,\n",
              " 'SSBN': 0,\n",
              " 'SBYS': 1,\n",
              " 'SBGV': 299,\n",
              " 'SDWQ': 21,\n",
              " 'SWYY': 0,\n",
              " 'SSZW': 1,\n",
              " 'SBGL': 2439,\n",
              " 'SNCI': 0,\n",
              " 'SWSQ': 1,\n",
              " 'SWXV': 7,\n",
              " 'SSCC': 19,\n",
              " 'SWBR': 9,\n",
              " 'SBMO': 1419,\n",
              " 'SNPC': 0,\n",
              " 'SIQE': 0,\n",
              " 'SSCT': 2,\n",
              " 'SIGP': 6,\n",
              " 'SNAX': 1,\n",
              " 'SWRF': 0,\n",
              " 'SSSB': 1,\n",
              " 'SWKK': 6,\n",
              " 'SSGY': 0,\n",
              " 'SWLC': 240,\n",
              " 'SWVC': 16,\n",
              " 'SWBV': 5,\n",
              " 'SWFE': 1,\n",
              " 'SNMA': 76,\n",
              " 'SBGO': 2056,\n",
              " 'SBSI': 61,\n",
              " 'SBUL': 2009,\n",
              " 'SBMG': 939,\n",
              " 'SBLO': 1726,\n",
              " 'SWEI': 52,\n",
              " 'SSAB': 0,\n",
              " 'SSEP': 3,\n",
              " 'SBCR': 254,\n",
              " 'SWJW': 1,\n",
              " 'SNCT': 15,\n",
              " 'SBBG': 17,\n",
              " '2NHT': 15,\n",
              " 'SJQK': 23,\n",
              " 'SJTS': 0,\n",
              " 'SSTE': 0,\n",
              " 'SBFZ': 1889,\n",
              " 'SBCD': 73,\n",
              " 'SNFO': 0,\n",
              " 'SBJC': 32,\n",
              " 'SBQV': 478,\n",
              " 'SWGN': 478,\n",
              " 'SBBU': 537,\n",
              " 'SJNP': 23,\n",
              " 'SBEG': 1800,\n",
              " 'SBPN': 15,\n",
              " 'SBMH': 284,\n",
              " 'SNPY': 7,\n",
              " 'SNQG': 1,\n",
              " 'SNBM': 1,\n",
              " 'SBAR': 1154,\n",
              " 'SBPK': 242,\n",
              " 'SNUU': 0,\n",
              " 'SWUI': 1,\n",
              " 'SDSC': 890,\n",
              " 'SNBU': 0,\n",
              " 'SSNH': 1,\n",
              " 'SISO': 2,\n",
              " 'SBSV': 2286,\n",
              " 'SDRS': 17,\n",
              " 'SBLJ': 101,\n",
              " 'SSER': 98,\n",
              " 'SWGI': 187,\n",
              " 'SNJM': 8,\n",
              " 'SWLV': 1,\n",
              " 'SNOB': 0,\n",
              " 'SBRJ': 2222,\n",
              " 'SNAP': 1,\n",
              " 'SNKB': 1,\n",
              " 'SBCB': 352,\n",
              " 'SNNC': 1,\n",
              " 'SNVB': 104,\n",
              " 'SNLA': 3,\n",
              " 'SBMM': 6,\n",
              " 'SBUA': 22,\n",
              " 'SBLS': 6,\n",
              " 'SBTB': 124,\n",
              " 'SNMK': 13,\n",
              " 'SWPD': 6,\n",
              " 'SNUI': 11,\n",
              " 'SNJN': 6,\n",
              " 'SSCR': 1,\n",
              " 'SBVC': 102,\n",
              " 'SBBP': 0,\n",
              " 'SBFE': 35,\n",
              " 'SDBB': 0,\n",
              " 'SBTK': 5,\n",
              " 'SBMS': 115,\n",
              " 'SNDM': 102,\n",
              " 'SDLU': 0,\n",
              " 'SSNM': 15,\n",
              " 'SNNT': 0,\n",
              " 'SBGU': 3,\n",
              " 'SWKC': 5,\n",
              " 'SBMA': 683,\n",
              " 'SBTG': 86,\n",
              " 'SBTL': 21,\n",
              " 'SBRG': 42,\n",
              " 'SNCB': 1,\n",
              " 'SBTU': 239,\n",
              " 'SSAC': 0,\n",
              " 'SBSJ': 1734,\n",
              " 'SBPP': 36,\n",
              " 'SSCN': 1,\n",
              " 'SDVG': 206,\n",
              " 'SNEB': 4,\n",
              " 'SBJD': 633,\n",
              " 'SNZR': 9,\n",
              " 'SBCC': 3,\n",
              " 'SWKN': 344,\n",
              " 'SDBK': 61,\n",
              " 'SWDE': 0,\n",
              " 'SSAE': 0,\n",
              " 'SJQP': 0,\n",
              " 'SNVV': 1,\n",
              " 'SBLN': 2,\n",
              " 'SBPA': 2247,\n",
              " 'SNVR': 0,\n",
              " 'SILC': 26,\n",
              " 'SNRU': 55,\n",
              " 'SBSR': 1789,\n",
              " 'SJVO': 0,\n",
              " 'SBTR': 1,\n",
              " 'SBJE': 161,\n",
              " 'SSHZ': 3,\n",
              " 'SSRS': 2,\n",
              " 'SWHG': 2,\n",
              " 'SJLU': 1,\n",
              " 'SIKC': 10,\n",
              " 'SWRD': 474,\n",
              " 'SBRB': 789,\n",
              " 'SNPV': 0,\n",
              " 'SBUY': 33,\n",
              " 'SNRB': 10,\n",
              " 'SBPO': 9,\n",
              " 'SWNB': 1,\n",
              " 'SDAG': 82,\n",
              " 'SBMI': 3,\n",
              " 'SNGR': 0,\n",
              " 'SBMD': 123,\n",
              " 'SSOE': 14,\n",
              " 'SWEK': 9,\n",
              " 'SBFN': 218,\n",
              " 'SBCH': 804,\n",
              " 'SILJ': 0,\n",
              " 'SNXW': 0,\n",
              " 'SNGQ': 1,\n",
              " 'SBFC': 331,\n",
              " 'SBIZ': 655,\n",
              " 'SBJV': 811,\n",
              " 'SSPK': 1,\n",
              " 'SNEE': 1,\n",
              " 'SSBG': 0,\n",
              " 'SDFR': 9,\n",
              " 'SNQX': 0,\n",
              " 'SDTF': 3,\n",
              " 'SBCI': 26,\n",
              " 'SNJD': 15,\n",
              " 'SIFV': 14,\n",
              " 'SBCM': 320,\n",
              " 'SDZG': 0,\n",
              " 'SNNU': 4,\n",
              " 'SBTT': 108,\n",
              " 'SNUO': 0,\n",
              " 'SWKO': 77,\n",
              " 'SSPB': 35,\n",
              " 'SWUA': 3,\n",
              " 'SNWR': 1,\n",
              " 'SNJK': 1,\n",
              " 'SDPA': 10,\n",
              " 'SNCL': 1,\n",
              " 'SNRS': 0,\n",
              " 'SNDT': 7,\n",
              " 'SNAH': 0,\n",
              " 'SBCJ': 606,\n",
              " 'SBCA': 604,\n",
              " 'SBIH': 250,\n",
              " 'SBSC': 17,\n",
              " 'SNSH': 103,\n",
              " 'SBPG': 4,\n",
              " 'SBDO': 160,\n",
              " 'SBMQ': 984,\n",
              " 'SBFL': 1617,\n",
              " 'SBGS': 3,\n",
              " 'SNYV': 0,\n",
              " 'SWTP': 9,\n",
              " 'SBSL': 1170,\n",
              " 'SSTL': 6,\n",
              " 'SJDB': 15,\n",
              " 'SNJO': 1,\n",
              " 'SNKI': 1,\n",
              " 'SNJR': 36,\n",
              " 'SNXB': 0,\n",
              " 'SBGM': 1,\n",
              " 'SNPD': 92,\n",
              " 'SJRG': 6,\n",
              " 'SBIT': 1,\n",
              " 'SBCT': 2107,\n",
              " 'SBUR': 982,\n",
              " 'SBBZ': 69,\n",
              " 'SBAM': 2,\n",
              " 'SBOI': 19,\n",
              " 'SWJV': 1,\n",
              " 'SWHP': 22,\n",
              " 'SSSK': 0,\n",
              " 'SSNC': 0,\n",
              " 'SSBB': 3,\n",
              " 'SNUC': 6,\n",
              " 'SBEK': 7,\n",
              " 'SNFX': 42,\n",
              " 'SWSI': 321,\n",
              " 'SNQW': 0,\n",
              " 'SWEE': 2,\n",
              " 'SNYB': 6,\n",
              " 'SDUB': 6,\n",
              " 'SBTC': 504,\n",
              " 'SBJI': 269,\n",
              " 'SDOU': 7,\n",
              " 'SNFE': 24,\n",
              " 'SNUB': 0,\n",
              " 'SDCG': 14,\n",
              " 'SBMT': 89,\n",
              " 'SNDQ': 0,\n",
              " 'SSJA': 75,\n",
              " 'SWVR': 6,\n",
              " 'SBRP': 2323,\n",
              " 'SBBE': 1631,\n",
              " 'SBPI': 0,\n",
              " 'SWMP': 17,\n",
              " 'SNCX': 0,\n",
              " 'SDVE': 0,\n",
              " '1AON': 43,\n",
              " 'SNTI': 100,\n",
              " 'SNZA': 14,\n",
              " 'SWGP': 1,\n",
              " 'SNUH': 3,\n",
              " 'SNMD': 11,\n",
              " 'SBER': 0,\n",
              " 'SNSW': 6,\n",
              " 'SNAB': 0,\n",
              " 'SIBU': 3,\n",
              " 'SSOG': 8,\n",
              " 'SWOB': 41,\n",
              " 'SBBI': 36,\n",
              " 'SNDV': 18,\n",
              " 'SBBV': 596,\n",
              " 'SBFI': 1336,\n",
              " 'SWBU': 1,\n",
              " 'SNBS': 6,\n",
              " 'SBIL': 882,\n",
              " 'SNTS': 30,\n",
              " 'SBBH': 2588,\n",
              " 'SBUG': 117,\n",
              " 'SNCP': 9,\n",
              " 'SBLE': 123,\n",
              " 'SBJU': 609,\n",
              " 'SBNF': 974,\n",
              " 'SWYK': 3,\n",
              " 'SWWD': 1,\n",
              " 'SBAA': 64,\n",
              " 'SBAU': 819,\n",
              " 'SNMX': 10,\n",
              " 'SNSM': 0,\n",
              " 'SSPG': 3,\n",
              " 'SDAN': 3,\n",
              " 'SWYN': 14,\n",
              " 'SDUN': 14,\n",
              " 'SNPG': 1,\n",
              " 'SIMK': 137,\n",
              " 'SBPM': 272,\n",
              " 'SBBR': 2465,\n",
              " 'SWDB': 0,\n",
              " 'SBCP': 305,\n",
              " 'SNTP': 1,\n",
              " 'SSAP': 5,\n",
              " 'SWPY': 3,\n",
              " 'SNQM': 0,\n",
              " 'SDCO': 908,\n",
              " 'SWFJ': 3,\n",
              " 'SBIC': 13,\n",
              " 'SBVG': 286,\n",
              " 'SBKG': 270,\n",
              " 'SWEU': 11,\n",
              " 'SDNM': 5,\n",
              " 'SBSM': 199,\n",
              " 'SNIG': 2,\n",
              " 'SBJP': 1085,\n",
              " 'SBSN': 1094,\n",
              " 'SWPI': 241,\n",
              " 'SNTO': 25,\n",
              " 'SNKK': 21,\n",
              " 'SSOU': 8,\n",
              " 'SBPS': 1796,\n",
              " 'SNVC': 7,\n",
              " 'SNSG': 0,\n",
              " 'SBLP': 14,\n",
              " 'SSUV': 1,\n",
              " 'SWPF': 0,\n",
              " 'SNDR': 6,\n",
              " 'SNIU': 0,\n",
              " '6ASO': 12,\n",
              " 'SJHG': 59,\n",
              " 'SWZM': 0,\n",
              " 'SBRF': 2005,\n",
              " 'SWCD': 1,\n",
              " 'SNPP': 2,\n",
              " 'SDAM': 514,\n",
              " 'SBBW': 159}"
            ]
          },
          "metadata": {},
          "execution_count": 30
        }
      ]
    },
    {
      "cell_type": "code",
      "source": [
        "nx.clustering(airports_brazil)"
      ],
      "metadata": {
        "colab": {
          "base_uri": "https://localhost:8080/"
        },
        "id": "mXqdwQjOH9Xv",
        "outputId": "2b6808a7-ca0c-4c2d-9ca7-719c15c606ec"
      },
      "execution_count": 31,
      "outputs": [
        {
          "output_type": "execute_result",
          "data": {
            "text/plain": [
              "{'SBAF': 0.8,\n",
              " 'SDMC': 1.0,\n",
              " 'SSLS': 1.0,\n",
              " 'SSGG': 1.0,\n",
              " 'SWJH': 0.509090909090909,\n",
              " 'SBJA': 0.9,\n",
              " 'SWWA': 0.6666666666666666,\n",
              " 'SNQY': 0.6257309941520468,\n",
              " 'SWLB': 0.6282051282051282,\n",
              " 'SBAS': 0.9934640522875817,\n",
              " 'SNPJ': 0.8,\n",
              " 'SNGA': 0,\n",
              " 'SDTK': 0.7454545454545455,\n",
              " 'SSUW': 0.8,\n",
              " 'SBAV': 1.0,\n",
              " 'SWPJ': 1.0,\n",
              " 'SNOX': 0.6274509803921569,\n",
              " 'SBPV': 0.3868873742291464,\n",
              " 'SBYA': 1.0,\n",
              " 'SNVS': 0.7272727272727273,\n",
              " 'SNML': 0,\n",
              " 'SBMN': 0.5190476190476191,\n",
              " 'SBVH': 0.5548387096774193,\n",
              " 'SWCP': 1.0,\n",
              " 'SBCN': 0.7907692307692308,\n",
              " 'SNBA': 0.9615384615384616,\n",
              " 'SWPC': 0,\n",
              " 'SSCP': 0.8333333333333334,\n",
              " 'SBJH': 0,\n",
              " 'SSUM': 0.7142857142857143,\n",
              " 'SDH2': 0.6,\n",
              " 'SNHS': 1.0,\n",
              " 'SBTE': 0.6243194192377496,\n",
              " 'SIZX': 0.6190476190476191,\n",
              " 'SNWS': 0,\n",
              " 'SBDN': 0.5748281332628239,\n",
              " 'SSBE': 0,\n",
              " 'SNKE': 0.8055555555555556,\n",
              " 'SWBZ': 0.8571428571428571,\n",
              " 'SBMK': 0.49923195084485406,\n",
              " 'SWRP': 0.5555555555555556,\n",
              " 'SWBI': 0.8333333333333334,\n",
              " 'SBBQ': 0.8095238095238095,\n",
              " 'SWXM': 1.0,\n",
              " 'SWLF': 0,\n",
              " 'SBMC': 0.7878787878787878,\n",
              " 'SNAT': 0.8571428571428571,\n",
              " 'SNMU': 0.7210526315789474,\n",
              " 'SSVL': 0.6666666666666666,\n",
              " 'SJKB': 0.9,\n",
              " 'SWCB': 0,\n",
              " 'SNTF': 0.7878787878787878,\n",
              " 'SBTV': 1.0,\n",
              " 'SBCV': 0.725,\n",
              " 'SWCA': 0.5604395604395604,\n",
              " 'SBAX': 0.6068548387096774,\n",
              " 'SBGP': 1.0,\n",
              " 'SNBV': 1.0,\n",
              " 'SWUQ': 0.4666666666666667,\n",
              " 'SSLT': 0.7,\n",
              " 'SJCW': 0,\n",
              " 'SSKW': 0.7435897435897436,\n",
              " 'SBPC': 0.7575757575757576,\n",
              " 'SDOV': 1.0,\n",
              " 'SBDB': 0.9636363636363636,\n",
              " 'SNGV': 0.7941176470588235,\n",
              " 'SNGI': 0.6909090909090909,\n",
              " 'SWJP': 1.0,\n",
              " 'SNMZ': 0.9111111111111111,\n",
              " 'SBBT': 0.8917748917748918,\n",
              " 'SWBE': 0,\n",
              " 'SBCF': 0.3025344488188976,\n",
              " 'SWJN': 0.3161764705882353,\n",
              " 'SIXE': 0,\n",
              " 'SBAC': 0.9,\n",
              " 'SWTU': 0.4722222222222222,\n",
              " 'SBMY': 0.4230769230769231,\n",
              " 'SBJR': 0.5098814229249012,\n",
              " 'SNMJ': 0,\n",
              " 'SSIJ': 1.0,\n",
              " 'SBML': 0.7865853658536586,\n",
              " 'SNXL': 1.0,\n",
              " 'SNBX': 0,\n",
              " 'SBPJ': 0.5054325955734407,\n",
              " 'SIRI': 1.0,\n",
              " 'SBVT': 0.3902491408934708,\n",
              " 'SBKP': 0.233935998641881,\n",
              " 'SWHT': 0.5256410256410257,\n",
              " 'SNBG': 0,\n",
              " 'SNRJ': 1.0,\n",
              " 'SDOW': 0.8205128205128205,\n",
              " 'SNIP': 1.0,\n",
              " 'SBPB': 0.7662337662337663,\n",
              " 'SBCX': 0.6435897435897436,\n",
              " 'SWBC': 0.5833333333333334,\n",
              " 'SBSG': 0.7758454106280194,\n",
              " 'SWAE': 1.0,\n",
              " 'SWDM': 0.3333333333333333,\n",
              " 'SSZR': 0.6666666666666666,\n",
              " 'SBTF': 0.35079365079365077,\n",
              " 'SNQD': 0.5,\n",
              " 'SWCQ': 1.0,\n",
              " 'SSDO': 0.8095238095238095,\n",
              " 'SWJU': 0.6428571428571429,\n",
              " 'SWNA': 0.8,\n",
              " 'SNJB': 1.0,\n",
              " 'SBRD': 0.8333333333333334,\n",
              " 'SBZM': 0.9315789473684211,\n",
              " 'SBAE': 0.7072463768115942,\n",
              " 'SWNH': 1.0,\n",
              " 'SWCI': 1.0,\n",
              " 'SWBG': 1.0,\n",
              " 'SDAA': 0.8,\n",
              " 'SWOW': 1.0,\n",
              " 'SSCL': 0,\n",
              " 'SBHT': 0.49861239592969475,\n",
              " 'SWFX': 0.3384615384615385,\n",
              " 'SWPQ': 1.0,\n",
              " 'SBST': 0.6,\n",
              " 'SDJA': 0,\n",
              " 'SBCZ': 0.5797101449275363,\n",
              " 'SDZC': 0,\n",
              " 'SNMH': 1.0,\n",
              " 'SSFB': 0.6888888888888889,\n",
              " 'SNBI': 1.0,\n",
              " 'SWUY': 0.6909090909090909,\n",
              " 'SJUR': 0.9333333333333333,\n",
              " 'SJGU': 0,\n",
              " 'SWNS': 0.7,\n",
              " 'SSPI': 1.0,\n",
              " 'SBAG': 0.8444444444444444,\n",
              " 'SWJI': 0.6733870967741935,\n",
              " 'SBTD': 0.8571428571428571,\n",
              " 'SSVI': 0.9818181818181818,\n",
              " 'SNAR': 1.0,\n",
              " 'SWMK': 1.0,\n",
              " 'SBCO': 1.0,\n",
              " 'SSCK': 0.8363636363636363,\n",
              " 'SSND': 1.0,\n",
              " 'SNOS': 0.6666666666666666,\n",
              " 'SBTS': 0.6071428571428571,\n",
              " 'SWII': 1.0,\n",
              " 'SBCG': 0.4482758620689655,\n",
              " 'SWNO': 0.42857142857142855,\n",
              " 'SNPX': 1.0,\n",
              " 'SBIP': 0.5050980392156863,\n",
              " 'SWJQ': 0,\n",
              " 'SBNT': 0.49983771502758845,\n",
              " 'SBAQ': 0.8302521008403362,\n",
              " 'SBNM': 0.6340579710144928,\n",
              " 'SBGR': 0.20943826632449386,\n",
              " 'SNGX': 1.0,\n",
              " 'SDIM': 0,\n",
              " 'SNIC': 1.0,\n",
              " 'SWFN': 0.29411764705882354,\n",
              " 'SNCC': 1.0,\n",
              " 'SBPL': 0.6811224489795918,\n",
              " 'SNBW': 1.0,\n",
              " 'SBAN': 1.0,\n",
              " 'SSTD': 1.0,\n",
              " 'SWQR': 0.8333333333333334,\n",
              " 'SWPH': 1.0,\n",
              " 'SBSP': 0.21010376429599334,\n",
              " 'SBCY': 0.24007155635062613,\n",
              " 'SWWU': 0,\n",
              " 'SBUF': 1.0,\n",
              " 'SNDC': 0.5138339920948617,\n",
              " 'SNBR': 0.6007130124777184,\n",
              " 'SNDB': 1.0,\n",
              " 'SWNQ': 0.9,\n",
              " 'SNAV': 0,\n",
              " 'SDLK': 0,\n",
              " 'SJTC': 0.8484848484848485,\n",
              " 'SNNG': 0.46153846153846156,\n",
              " 'SWTS': 0.42857142857142855,\n",
              " 'SWMW': 0.6363636363636364,\n",
              " 'SNDH': 1.0,\n",
              " 'SBME': 0.5543672014260249,\n",
              " 'SJLM': 0,\n",
              " 'SBJF': 0.6733870967741935,\n",
              " 'SBSO': 0.7142857142857143,\n",
              " 'SWNK': 0.7555555555555555,\n",
              " 'SSKM': 0.6666666666666666,\n",
              " 'SSSC': 0,\n",
              " 'SBAT': 0.5654520917678812,\n",
              " 'SDDM': 1.0,\n",
              " 'SWIQ': 0.6071428571428571,\n",
              " 'SNYA': 0.9333333333333333,\n",
              " 'SBPF': 0.6100840336134454,\n",
              " 'SNLO': 0,\n",
              " 'SSBN': 0,\n",
              " 'SBYS': 1.0,\n",
              " 'SBGV': 0.6430107526881721,\n",
              " 'SDWQ': 1.0,\n",
              " 'SWYY': 0,\n",
              " 'SSZW': 1.0,\n",
              " 'SBGL': 0.2820957668285913,\n",
              " 'SNCI': 0,\n",
              " 'SWSQ': 1.0,\n",
              " 'SWXV': 0.7,\n",
              " 'SSCC': 0.9047619047619048,\n",
              " 'SWBR': 0.6,\n",
              " 'SBMO': 0.5399543378995434,\n",
              " 'SNPC': 0,\n",
              " 'SIQE': 0,\n",
              " 'SSCT': 0.6666666666666666,\n",
              " 'SIGP': 1.0,\n",
              " 'SNAX': 1.0,\n",
              " 'SWRF': 0,\n",
              " 'SSSB': 1.0,\n",
              " 'SWKK': 1.0,\n",
              " 'SSGY': 0,\n",
              " 'SWLC': 0.8,\n",
              " 'SWVC': 0.7619047619047619,\n",
              " 'SWBV': 0.8333333333333334,\n",
              " 'SWFE': 1.0,\n",
              " 'SNMA': 0.7238095238095238,\n",
              " 'SBGO': 0.23422191843244475,\n",
              " 'SBSI': 0.580952380952381,\n",
              " 'SBUL': 0.45962022420498744,\n",
              " 'SBMG': 0.6561844863731656,\n",
              " 'SBLO': 0.4214896214896215,\n",
              " 'SWEI': 0.5714285714285714,\n",
              " 'SSAB': 0,\n",
              " 'SSEP': 1.0,\n",
              " 'SBCR': 0.7815384615384615,\n",
              " 'SWJW': 1.0,\n",
              " 'SNCT': 0.5357142857142857,\n",
              " 'SBBG': 0.6071428571428571,\n",
              " '2NHT': 1.0,\n",
              " 'SJQK': 0.3484848484848485,\n",
              " 'SJTS': 0,\n",
              " 'SSTE': 0,\n",
              " 'SBFZ': 0.3974332000841574,\n",
              " 'SBCD': 0.5367647058823529,\n",
              " 'SNFO': 0,\n",
              " 'SBJC': 0.7111111111111111,\n",
              " 'SBQV': 0.6128205128205129,\n",
              " 'SWGN': 0.5551684088269454,\n",
              " 'SBBU': 0.6884615384615385,\n",
              " 'SJNP': 0.8214285714285714,\n",
              " 'SBEG': 0.22145669291338582,\n",
              " 'SBPN': 1.0,\n",
              " 'SBMH': 0.9466666666666667,\n",
              " 'SNPY': 0.7,\n",
              " 'SNQG': 0.3333333333333333,\n",
              " 'SNBM': 1.0,\n",
              " 'SBAR': 0.6306010928961748,\n",
              " 'SBPK': 0.6402116402116402,\n",
              " 'SNUU': 0,\n",
              " 'SWUI': 1.0,\n",
              " 'SDSC': 0.7568027210884354,\n",
              " 'SNBU': 0,\n",
              " 'SSNH': 1.0,\n",
              " 'SISO': 0.6666666666666666,\n",
              " 'SBSV': 0.2684674104521433,\n",
              " 'SDRS': 0.8095238095238095,\n",
              " 'SBLJ': 0.6601307189542484,\n",
              " 'SSER': 0.6405228758169934,\n",
              " 'SWGI': 0.4021505376344086,\n",
              " 'SNJM': 0.8,\n",
              " 'SWLV': 1.0,\n",
              " 'SNOB': 0,\n",
              " 'SBRJ': 0.2913716233936533,\n",
              " 'SNAP': 1.0,\n",
              " 'SNKB': 1.0,\n",
              " 'SBCB': 0.8669950738916257,\n",
              " 'SNNC': 0.3333333333333333,\n",
              " 'SNVB': 0.8666666666666667,\n",
              " 'SNLA': 1.0,\n",
              " 'SBMM': 1.0,\n",
              " 'SBUA': 0.4,\n",
              " 'SBLS': 1.0,\n",
              " 'SBTB': 0.6526315789473685,\n",
              " 'SNMK': 0.6190476190476191,\n",
              " 'SWPD': 1.0,\n",
              " 'SNUI': 0.7333333333333333,\n",
              " 'SNJN': 1.0,\n",
              " 'SSCR': 1.0,\n",
              " 'SBVC': 0.85,\n",
              " 'SBBP': 0,\n",
              " 'SBFE': 0.9722222222222222,\n",
              " 'SDBB': 0,\n",
              " 'SBTK': 0.8333333333333334,\n",
              " 'SBMS': 0.7516339869281046,\n",
              " 'SNDM': 0.9714285714285714,\n",
              " 'SDLU': 0,\n",
              " 'SSNM': 1.0,\n",
              " 'SNNT': 0,\n",
              " 'SBGU': 1.0,\n",
              " 'SWKC': 0.5,\n",
              " 'SBMA': 0.5150829562594268,\n",
              " 'SBTG': 0.945054945054945,\n",
              " 'SBTL': 1.0,\n",
              " 'SBRG': 0.9333333333333333,\n",
              " 'SNCB': 1.0,\n",
              " 'SBTU': 0.48185483870967744,\n",
              " 'SSAC': 0,\n",
              " 'SBSJ': 0.4857142857142857,\n",
              " 'SBPP': 1.0,\n",
              " 'SSCN': 1.0,\n",
              " 'SDVG': 0.9809523809523809,\n",
              " 'SNEB': 0.6666666666666666,\n",
              " 'SBJD': 0.47737556561085975,\n",
              " 'SNZR': 0.9,\n",
              " 'SBCC': 1.0,\n",
              " 'SWKN': 0.8472906403940886,\n",
              " 'SDBK': 0.782051282051282,\n",
              " 'SWDE': 0,\n",
              " 'SSAE': 0,\n",
              " 'SJQP': 0,\n",
              " 'SNVV': 1.0,\n",
              " 'SBLN': 0.6666666666666666,\n",
              " 'SBPA': 0.28083989501312334,\n",
              " 'SNVR': 0,\n",
              " 'SILC': 0.5777777777777777,\n",
              " 'SNRU': 1.0,\n",
              " 'SBSR': 0.4368742368742369,\n",
              " 'SJVO': 0,\n",
              " 'SBTR': 1.0,\n",
              " 'SBJE': 0.9415204678362573,\n",
              " 'SSHZ': 1.0,\n",
              " 'SSRS': 0.6666666666666666,\n",
              " 'SWHG': 0.6666666666666666,\n",
              " 'SJLU': 1.0,\n",
              " 'SIKC': 1.0,\n",
              " 'SWRD': 0.6076923076923076,\n",
              " 'SBRB': 0.5725689404934688,\n",
              " 'SNPV': 0,\n",
              " 'SBUY': 0.7333333333333333,\n",
              " 'SNRB': 0.6666666666666666,\n",
              " 'SBPO': 0.6,\n",
              " 'SWNB': 1.0,\n",
              " 'SDAG': 0.780952380952381,\n",
              " 'SBMI': 1.0,\n",
              " 'SNGR': 0,\n",
              " 'SBMD': 0.5324675324675324,\n",
              " 'SSOE': 0.6666666666666666,\n",
              " 'SWEK': 0.42857142857142855,\n",
              " 'SBFN': 0.9437229437229437,\n",
              " 'SBCH': 0.4542372881355932,\n",
              " 'SILJ': 0,\n",
              " 'SNXW': 0,\n",
              " 'SNGQ': 1.0,\n",
              " 'SBFC': 0.7118279569892473,\n",
              " 'SBIZ': 0.6059204440333025,\n",
              " 'SBJV': 0.689625850340136,\n",
              " 'SSPK': 1.0,\n",
              " 'SNEE': 1.0,\n",
              " 'SSBG': 0,\n",
              " 'SDFR': 0.9,\n",
              " 'SNQX': 0,\n",
              " 'SDTF': 1.0,\n",
              " 'SBCI': 0.9285714285714286,\n",
              " 'SNJD': 0.5357142857142857,\n",
              " 'SIFV': 0.9333333333333333,\n",
              " 'SBCM': 0.6451612903225806,\n",
              " 'SDZG': 0,\n",
              " 'SNNU': 0.6666666666666666,\n",
              " 'SBTT': 0.4268774703557312,\n",
              " 'SNUO': 0,\n",
              " 'SWKO': 0.4052631578947368,\n",
              " 'SSPB': 0.7777777777777778,\n",
              " 'SWUA': 1.0,\n",
              " 'SNWR': 1.0,\n",
              " 'SNJK': 1.0,\n",
              " 'SDPA': 1.0,\n",
              " 'SNCL': 1.0,\n",
              " 'SNRS': 0,\n",
              " 'SNDT': 0.7,\n",
              " 'SNAH': 0,\n",
              " 'SBCJ': 0.5372340425531915,\n",
              " 'SBCA': 0.6688815060908084,\n",
              " 'SBIH': 0.2642706131078224,\n",
              " 'SBSC': 0.8095238095238095,\n",
              " 'SNSH': 0.40711462450592883,\n",
              " 'SBPG': 0.6666666666666666,\n",
              " 'SBDO': 0.935672514619883,\n",
              " 'SBMQ': 0.45874125874125876,\n",
              " 'SBFL': 0.44240766073871407,\n",
              " 'SBGS': 1.0,\n",
              " 'SNYV': 0,\n",
              " 'SWTP': 0.9,\n",
              " 'SBSL': 0.5990783410138248,\n",
              " 'SSTL': 1.0,\n",
              " 'SJDB': 1.0,\n",
              " 'SNJO': 1.0,\n",
              " 'SNKI': 1.0,\n",
              " 'SNJR': 1.0,\n",
              " 'SNXB': 0,\n",
              " 'SBGM': 1.0,\n",
              " 'SNPD': 0.4842105263157895,\n",
              " 'SJRG': 1.0,\n",
              " 'SBIT': 1.0,\n",
              " 'SBCT': 0.28546267443435847,\n",
              " 'SBUR': 0.5193019566367002,\n",
              " 'SBBZ': 0.7582417582417582,\n",
              " 'SBAM': 0.6666666666666666,\n",
              " 'SBOI': 0.6785714285714286,\n",
              " 'SWJV': 1.0,\n",
              " 'SWHP': 0.3333333333333333,\n",
              " 'SSSK': 0,\n",
              " 'SSNC': 0,\n",
              " 'SSBB': 1.0,\n",
              " 'SNUC': 1.0,\n",
              " 'SBEK': 0.4666666666666667,\n",
              " 'SNFX': 0.7636363636363637,\n",
              " 'SWSI': 0.4115384615384615,\n",
              " 'SNQW': 0,\n",
              " 'SWEE': 0.6666666666666666,\n",
              " 'SNYB': 1.0,\n",
              " 'SDUB': 1.0,\n",
              " 'SBTC': 0.8470588235294118,\n",
              " 'SBJI': 0.578494623655914,\n",
              " 'SDOU': 0.4666666666666667,\n",
              " 'SNFE': 0.6666666666666666,\n",
              " 'SNUB': 0,\n",
              " 'SDCG': 0.9333333333333333,\n",
              " 'SBMT': 0.6544117647058824,\n",
              " 'SNDQ': 0,\n",
              " 'SSJA': 0.7142857142857143,\n",
              " 'SWVR': 1.0,\n",
              " 'SBRP': 0.33652035346950604,\n",
              " 'SBBE': 0.2577433628318584,\n",
              " 'SBPI': 0,\n",
              " 'SWMP': 0.8095238095238095,\n",
              " 'SNCX': 0,\n",
              " 'SDVE': 0,\n",
              " '1AON': 0.9555555555555556,\n",
              " 'SNTI': 0.6535947712418301,\n",
              " 'SNZA': 0.5,\n",
              " 'SWGP': 1.0,\n",
              " 'SNUH': 1.0,\n",
              " 'SNMD': 0.5238095238095238,\n",
              " 'SBER': 0,\n",
              " 'SNSW': 1.0,\n",
              " 'SNAB': 0,\n",
              " 'SIBU': 1.0,\n",
              " 'SSOG': 0.5333333333333333,\n",
              " 'SWOB': 0.6212121212121212,\n",
              " 'SBBI': 0.6545454545454545,\n",
              " 'SNDV': 0.8571428571428571,\n",
              " 'SBBV': 0.40134680134680134,\n",
              " 'SBFI': 0.5226917057902973,\n",
              " 'SWBU': 1.0,\n",
              " 'SNBS': 0.6,\n",
              " 'SBIL': 0.6400580551523948,\n",
              " 'SNTS': 0.6666666666666666,\n",
              " 'SBBH': 0.2060345513892206,\n",
              " 'SBUG': 0.6157894736842106,\n",
              " 'SNCP': 0.6,\n",
              " 'SBLE': 0.9044117647058824,\n",
              " 'SBJU': 0.6151515151515151,\n",
              " 'SBNF': 0.6324675324675325,\n",
              " 'SWYK': 1.0,\n",
              " 'SWWD': 1.0,\n",
              " 'SBAA': 0.7032967032967034,\n",
              " 'SBAU': 0.6964285714285714,\n",
              " 'SNMX': 1.0,\n",
              " 'SNSM': 0,\n",
              " 'SSPG': 1.0,\n",
              " 'SDAN': 1.0,\n",
              " 'SWYN': 0.9333333333333333,\n",
              " 'SDUN': 0.6666666666666666,\n",
              " 'SNPG': 1.0,\n",
              " 'SIMK': 0.8954248366013072,\n",
              " 'SBPM': 0.8369230769230769,\n",
              " 'SBBR': 0.2645985401459854,\n",
              " 'SWDB': 0,\n",
              " 'SBCP': 0.5436720142602496,\n",
              " 'SNTP': 1.0,\n",
              " 'SSAP': 0.8333333333333334,\n",
              " 'SWPY': 1.0,\n",
              " 'SNQM': 0,\n",
              " 'SDCO': 0.5306838106370544,\n",
              " 'SWFJ': 1.0,\n",
              " 'SBIC': 0.4642857142857143,\n",
              " 'SBVG': 0.48067226890756304,\n",
              " 'SBKG': 0.7142857142857143,\n",
              " 'SWEU': 0.7333333333333333,\n",
              " 'SDNM': 0.8333333333333334,\n",
              " 'SBSM': 0.4574712643678161,\n",
              " 'SNIG': 0.6666666666666666,\n",
              " 'SBJP': 0.6129943502824858,\n",
              " 'SBSN': 0.30644257703081235,\n",
              " 'SWPI': 0.5540229885057472,\n",
              " 'SNTO': 0.45454545454545453,\n",
              " 'SNKK': 0.4666666666666667,\n",
              " 'SSOU': 0.5333333333333333,\n",
              " 'SBPS': 0.4800855386260358,\n",
              " 'SNVC': 0.7,\n",
              " 'SNSG': 0,\n",
              " 'SBLP': 0.6666666666666666,\n",
              " 'SSUV': 1.0,\n",
              " 'SWPF': 0,\n",
              " 'SNDR': 1.0,\n",
              " 'SNIU': 0,\n",
              " '6ASO': 0.5714285714285714,\n",
              " 'SJHG': 0.5619047619047619,\n",
              " 'SWZM': 0,\n",
              " 'SBRF': 0.38168665524462214,\n",
              " 'SWCD': 1.0,\n",
              " 'SNPP': 0.6666666666666666,\n",
              " 'SDAM': 0.8638655462184874,\n",
              " 'SBBW': 0.6284584980237155}"
            ]
          },
          "metadata": {},
          "execution_count": 31
        }
      ]
    },
    {
      "cell_type": "code",
      "source": [
        "nx.average_clustering(airports_brazil)"
      ],
      "metadata": {
        "colab": {
          "base_uri": "https://localhost:8080/"
        },
        "id": "xWeeDF6WIKCX",
        "outputId": "6f66ba7a-cc81-4d25-b509-13931bcac318"
      },
      "execution_count": 32,
      "outputs": [
        {
          "output_type": "execute_result",
          "data": {
            "text/plain": [
              "0.6310139004172535"
            ]
          },
          "metadata": {},
          "execution_count": 32
        }
      ]
    },
    {
      "cell_type": "markdown",
      "source": [
        "## Região Norte"
      ],
      "metadata": {
        "id": "NVQfI_YFIjNC"
      }
    },
    {
      "cell_type": "code",
      "source": [
        "nx.triangles(north_region)"
      ],
      "metadata": {
        "colab": {
          "base_uri": "https://localhost:8080/"
        },
        "id": "To5vAHZJInck",
        "outputId": "76e2560a-8bf0-4f92-cbbf-0e30679cee75"
      },
      "execution_count": 33,
      "outputs": [
        {
          "output_type": "execute_result",
          "data": {
            "text/plain": [
              "{'SJGU': 0,\n",
              " 'SWJI': 23,\n",
              " 'SBCJ': 111,\n",
              " 'SWUI': 1,\n",
              " 'SWLB': 49,\n",
              " 'SBIH': 174,\n",
              " 'SWMK': 1,\n",
              " 'SISO': 0,\n",
              " 'SNSH': 85,\n",
              " 'SBTS': 17,\n",
              " 'SWII': 15,\n",
              " 'SBMQ': 186,\n",
              " 'SNYV': 0,\n",
              " 'SWTP': 9,\n",
              " 'SWGI': 60,\n",
              " 'SWNO': 12,\n",
              " 'SWPJ': 0,\n",
              " 'SBYA': 1,\n",
              " 'SNOX': 96,\n",
              " 'SBPV': 182,\n",
              " 'SBGM': 1,\n",
              " 'SNVS': 48,\n",
              " 'SBMN': 86,\n",
              " 'SNNC': 0,\n",
              " 'SBVH': 18,\n",
              " 'SBAM': 1,\n",
              " 'SBOI': 8,\n",
              " 'SWFN': 45,\n",
              " 'SNLA': 3,\n",
              " 'SWJV': 1,\n",
              " 'SNCC': 1,\n",
              " 'SBUA': 22,\n",
              " 'SWPC': 0,\n",
              " 'SBTB': 103,\n",
              " 'SNBW': 1,\n",
              " 'SWPD': 6,\n",
              " 'SWQR': 5,\n",
              " 'SBEK': 7,\n",
              " 'SNFX': 30,\n",
              " 'SBTK': 5,\n",
              " 'SWSI': 19,\n",
              " 'SNQW': 0,\n",
              " 'SNKE': 20,\n",
              " 'SWEE': 2,\n",
              " 'SNDC': 57,\n",
              " 'SNDB': 3,\n",
              " 'SWBI': 5,\n",
              " 'SBJI': 24,\n",
              " 'SBMA': 132,\n",
              " 'SNNG': 10,\n",
              " 'SWMW': 42,\n",
              " 'SJLM': 0,\n",
              " 'SNCB': 1,\n",
              " 'SDCG': 14,\n",
              " 'SBTU': 103,\n",
              " 'SWNK': 34,\n",
              " 'SNEB': 4,\n",
              " 'SWCA': 45,\n",
              " 'SNBV': 1,\n",
              " 'SBBE': 280,\n",
              " 'SBCC': 0,\n",
              " 'SWUQ': 7,\n",
              " 'SNYA': 42,\n",
              " 'SJCW': 0,\n",
              " 'SSKW': 4,\n",
              " '1AON': 21,\n",
              " 'SNTI': 100,\n",
              " 'SDWQ': 21,\n",
              " 'SNMD': 11,\n",
              " 'SBER': 0,\n",
              " 'SNSW': 6,\n",
              " 'SNCI': 0,\n",
              " 'SWOB': 41,\n",
              " 'SWSQ': 1,\n",
              " 'SJLU': 1,\n",
              " 'SWJP': 15,\n",
              " 'SNMZ': 41,\n",
              " 'SWBR': 9,\n",
              " 'SBRB': 100,\n",
              " 'SNPV': 0,\n",
              " 'SBUY': 16,\n",
              " 'SBBV': 119,\n",
              " 'SNRB': 10,\n",
              " 'SWKK': 3,\n",
              " 'SNGR': 0,\n",
              " 'SBMD': 88,\n",
              " 'SWBV': 5,\n",
              " 'SWWD': 1,\n",
              " 'SNMA': 76,\n",
              " 'SBAA': 37,\n",
              " 'SBMY': 27,\n",
              " 'SILJ': 0,\n",
              " 'SNXW': 0,\n",
              " 'SNSM': 0,\n",
              " 'SNGQ': 1,\n",
              " 'SBPJ': 96,\n",
              " 'SWYN': 14,\n",
              " 'SWEI': 51,\n",
              " 'SNPG': 1,\n",
              " 'SBPM': 17,\n",
              " 'SNTP': 1,\n",
              " 'SWHT': 41,\n",
              " 'SWFJ': 3,\n",
              " 'SNRJ': 21,\n",
              " 'SBIC': 13,\n",
              " 'SDOW': 39,\n",
              " 'SWEU': 11,\n",
              " 'SJQK': 22,\n",
              " 'SBSN': 263,\n",
              " 'SJTS': 0,\n",
              " 'SWBC': 21,\n",
              " 'SWAE': 3,\n",
              " 'SWPI': 100,\n",
              " 'SBTF': 130,\n",
              " 'SWCQ': 1,\n",
              " 'SWNA': 8,\n",
              " 'SBJC': 32,\n",
              " 'SWOW': 1,\n",
              " 'SWGN': 98,\n",
              " 'SBTT': 74,\n",
              " 'SJNP': 3,\n",
              " 'SBHT': 175,\n",
              " 'SNUO': 0,\n",
              " 'SWKO': 72,\n",
              " 'SBEG': 321,\n",
              " 'SBPN': 10,\n",
              " 'SWPF': 0,\n",
              " 'SNWR': 1,\n",
              " 'SBCZ': 51,\n",
              " 'SWUY': 22}"
            ]
          },
          "metadata": {},
          "execution_count": 33
        }
      ]
    },
    {
      "cell_type": "code",
      "source": [
        "nx.clustering(north_region)"
      ],
      "metadata": {
        "colab": {
          "base_uri": "https://localhost:8080/"
        },
        "id": "7FGQBuwDIvO0",
        "outputId": "a9cbbac0-e7ee-40d1-88aa-e5a11001bfa7"
      },
      "execution_count": 34,
      "outputs": [
        {
          "output_type": "execute_result",
          "data": {
            "text/plain": [
              "{'SJGU': 0,\n",
              " 'SWJI': 0.6388888888888888,\n",
              " 'SBCJ': 0.5842105263157895,\n",
              " 'SWUI': 1.0,\n",
              " 'SWLB': 0.6282051282051282,\n",
              " 'SBIH': 0.3741935483870968,\n",
              " 'SWMK': 1.0,\n",
              " 'SISO': 0,\n",
              " 'SNSH': 0.49707602339181284,\n",
              " 'SBTS': 0.6071428571428571,\n",
              " 'SWII': 1.0,\n",
              " 'SBMQ': 0.3315508021390374,\n",
              " 'SNYV': 0,\n",
              " 'SWTP': 0.9,\n",
              " 'SWGI': 0.6593406593406593,\n",
              " 'SWNO': 0.42857142857142855,\n",
              " 'SWPJ': 0,\n",
              " 'SBYA': 1.0,\n",
              " 'SNOX': 0.6274509803921569,\n",
              " 'SBPV': 0.23333333333333334,\n",
              " 'SBGM': 1.0,\n",
              " 'SNVS': 0.7272727272727273,\n",
              " 'SBMN': 0.45263157894736844,\n",
              " 'SNNC': 0,\n",
              " 'SBVH': 0.5,\n",
              " 'SBAM': 1.0,\n",
              " 'SBOI': 0.8,\n",
              " 'SWFN': 0.29411764705882354,\n",
              " 'SNLA': 1.0,\n",
              " 'SWJV': 1.0,\n",
              " 'SNCC': 1.0,\n",
              " 'SBUA': 0.4,\n",
              " 'SWPC': 0,\n",
              " 'SBTB': 0.673202614379085,\n",
              " 'SNBW': 1.0,\n",
              " 'SWPD': 1.0,\n",
              " 'SWQR': 0.8333333333333334,\n",
              " 'SBEK': 0.4666666666666667,\n",
              " 'SNFX': 0.8333333333333334,\n",
              " 'SBTK': 0.8333333333333334,\n",
              " 'SWSI': 0.5277777777777778,\n",
              " 'SNQW': 0,\n",
              " 'SNKE': 0.9523809523809523,\n",
              " 'SWEE': 0.6666666666666666,\n",
              " 'SNDC': 0.6263736263736264,\n",
              " 'SNDB': 1.0,\n",
              " 'SWBI': 0.8333333333333334,\n",
              " 'SBJI': 0.5333333333333333,\n",
              " 'SBMA': 0.44,\n",
              " 'SNNG': 0.6666666666666666,\n",
              " 'SWMW': 0.6363636363636364,\n",
              " 'SJLM': 0,\n",
              " 'SNCB': 1.0,\n",
              " 'SDCG': 0.9333333333333333,\n",
              " 'SBTU': 0.49047619047619045,\n",
              " 'SWNK': 0.7555555555555555,\n",
              " 'SNEB': 0.6666666666666666,\n",
              " 'SWCA': 0.5769230769230769,\n",
              " 'SNBV': 1.0,\n",
              " 'SBBE': 0.1636469900642899,\n",
              " 'SBCC': 0,\n",
              " 'SWUQ': 0.7,\n",
              " 'SNYA': 0.9333333333333333,\n",
              " 'SJCW': 0,\n",
              " 'SSKW': 0.6666666666666666,\n",
              " '1AON': 1.0,\n",
              " 'SNTI': 0.6535947712418301,\n",
              " 'SDWQ': 1.0,\n",
              " 'SNMD': 0.5238095238095238,\n",
              " 'SBER': 0,\n",
              " 'SNSW': 1.0,\n",
              " 'SNCI': 0,\n",
              " 'SWOB': 0.6212121212121212,\n",
              " 'SWSQ': 1.0,\n",
              " 'SJLU': 1.0,\n",
              " 'SWJP': 1.0,\n",
              " 'SNMZ': 0.9111111111111111,\n",
              " 'SWBR': 0.6,\n",
              " 'SBRB': 0.3952569169960474,\n",
              " 'SNPV': 0,\n",
              " 'SBUY': 0.7619047619047619,\n",
              " 'SBBV': 0.3148148148148148,\n",
              " 'SNRB': 0.6666666666666666,\n",
              " 'SWKK': 1.0,\n",
              " 'SNGR': 0,\n",
              " 'SBMD': 0.5751633986928104,\n",
              " 'SWBV': 0.8333333333333334,\n",
              " 'SWWD': 1.0,\n",
              " 'SNMA': 0.7238095238095238,\n",
              " 'SBAA': 0.8222222222222222,\n",
              " 'SBMY': 0.4909090909090909,\n",
              " 'SILJ': 0,\n",
              " 'SNXW': 0,\n",
              " 'SNSM': 0,\n",
              " 'SNGQ': 1.0,\n",
              " 'SBPJ': 0.5614035087719298,\n",
              " 'SWYN': 0.9333333333333333,\n",
              " 'SWEI': 0.6538461538461539,\n",
              " 'SNPG': 1.0,\n",
              " 'SBPM': 0.8095238095238095,\n",
              " 'SNTP': 1.0,\n",
              " 'SWHT': 0.5256410256410257,\n",
              " 'SWFJ': 1.0,\n",
              " 'SNRJ': 1.0,\n",
              " 'SBIC': 0.4642857142857143,\n",
              " 'SDOW': 0.8666666666666667,\n",
              " 'SWEU': 0.7333333333333333,\n",
              " 'SJQK': 0.4,\n",
              " 'SBSN': 0.27801268498942916,\n",
              " 'SJTS': 0,\n",
              " 'SWBC': 0.5833333333333334,\n",
              " 'SWAE': 1.0,\n",
              " 'SWPI': 0.5263157894736842,\n",
              " 'SBTF': 0.37037037037037035,\n",
              " 'SWCQ': 1.0,\n",
              " 'SWNA': 0.8,\n",
              " 'SBJC': 0.7111111111111111,\n",
              " 'SWOW': 1.0,\n",
              " 'SWGN': 0.6405228758169934,\n",
              " 'SBTT': 0.48366013071895425,\n",
              " 'SJNP': 1.0,\n",
              " 'SBHT': 0.46296296296296297,\n",
              " 'SNUO': 0,\n",
              " 'SWKO': 0.42105263157894735,\n",
              " 'SBEG': 0.14091308165057068,\n",
              " 'SBPN': 1.0,\n",
              " 'SWPF': 0,\n",
              " 'SNWR': 1.0,\n",
              " 'SBCZ': 0.4857142857142857,\n",
              " 'SWUY': 0.7857142857142857}"
            ]
          },
          "metadata": {},
          "execution_count": 34
        }
      ]
    },
    {
      "cell_type": "code",
      "source": [
        "nx.average_clustering(north_region)"
      ],
      "metadata": {
        "colab": {
          "base_uri": "https://localhost:8080/"
        },
        "id": "Q6LSyx6zI5ZY",
        "outputId": "5e9742e8-b4aa-47e8-d1da-1b745b857284"
      },
      "execution_count": 35,
      "outputs": [
        {
          "output_type": "execute_result",
          "data": {
            "text/plain": [
              "0.6124990658608361"
            ]
          },
          "metadata": {},
          "execution_count": 35
        }
      ]
    },
    {
      "cell_type": "markdown",
      "source": [
        "## Região Nordeste"
      ],
      "metadata": {
        "id": "N9Q1lsR9JaWQ"
      }
    },
    {
      "cell_type": "code",
      "source": [
        "nx.triangles(northeast_region)"
      ],
      "metadata": {
        "colab": {
          "base_uri": "https://localhost:8080/"
        },
        "id": "idO8-WtAJzj2",
        "outputId": "2e653106-5147-4c2c-f834-b58949d705e4"
      },
      "execution_count": 36,
      "outputs": [
        {
          "output_type": "execute_result",
          "data": {
            "text/plain": [
              "{'SNCL': 1,\n",
              " 'SNRS': 0,\n",
              " 'SNAH': 0,\n",
              " 'SSLS': 0,\n",
              " 'SNUU': 0,\n",
              " 'SNQY': 59,\n",
              " 'SNBU': 0,\n",
              " 'SBSV': 230,\n",
              " 'SBSL': 115,\n",
              " 'SNJO': 1,\n",
              " 'SNOB': 0,\n",
              " 'SBNT': 177,\n",
              " 'SNML': 0,\n",
              " 'SNKB': 1,\n",
              " 'SNIC': 1,\n",
              " 'SNVB': 15,\n",
              " 'SBPL': 158,\n",
              " 'SSSK': 0,\n",
              " 'SNUC': 6,\n",
              " 'SBVC': 28,\n",
              " 'SBFE': 10,\n",
              " 'SNHS': 1,\n",
              " 'SBTE': 97,\n",
              " 'SBMS': 37,\n",
              " 'SNWS': 0,\n",
              " 'SBUF': 45,\n",
              " 'SNDM': 6,\n",
              " 'SNBR': 51,\n",
              " 'SBTC': 50,\n",
              " 'SNAV': 0,\n",
              " 'SDLK': 0,\n",
              " 'SNAT': 8,\n",
              " 'SNMU': 7,\n",
              " 'SNDH': 1,\n",
              " 'SNDQ': 0,\n",
              " 'SNTF': 5,\n",
              " 'SBTV': 0,\n",
              " 'SBCV': 4,\n",
              " 'SNVV': 1,\n",
              " 'SNVR': 0,\n",
              " 'SNRU': 36,\n",
              " 'SNGI': 5,\n",
              " 'SBJE': 34,\n",
              " 'SNAB': 0,\n",
              " 'SIBU': 3,\n",
              " 'SSRS': 2,\n",
              " 'SWBE': 0,\n",
              " 'SBMO': 178,\n",
              " 'SNBI': 0,\n",
              " 'SNPC': 0,\n",
              " 'SNBS': 0,\n",
              " 'SBIL': 104,\n",
              " 'SNTS': 30,\n",
              " 'SWNB': 1,\n",
              " 'SWRF': 0,\n",
              " 'SBLE': 18,\n",
              " 'SBJU': 158,\n",
              " 'SBAC': 6,\n",
              " 'SBFN': 51,\n",
              " 'SNMJ': 0,\n",
              " 'SNBX': 0,\n",
              " 'SIRI': 1,\n",
              " 'SNQM': 0,\n",
              " 'SBIZ': 75,\n",
              " 'SBKG': 111,\n",
              " 'SNIP': 1,\n",
              " 'SBPB': 63,\n",
              " '2NHT': 3,\n",
              " 'SNIG': 2,\n",
              " 'SBJP': 181,\n",
              " 'SNQX': 0,\n",
              " 'SBSG': 112,\n",
              " 'SBCI': 0,\n",
              " 'SNJD': 3,\n",
              " 'SNKK': 20,\n",
              " 'SBPS': 151,\n",
              " 'SNQD': 32,\n",
              " 'SNVC': 0,\n",
              " 'SNJB': 1,\n",
              " 'SNSG': 0,\n",
              " 'SBFZ': 197,\n",
              " 'SBLP': 5,\n",
              " 'SDZG': 0,\n",
              " 'SBQV': 59,\n",
              " 'SNDR': 1,\n",
              " 'SNIU': 0,\n",
              " 'SBRF': 229,\n",
              " 'SNQG': 1,\n",
              " 'SNPP': 0,\n",
              " 'SNJK': 0,\n",
              " 'SJUR': 0,\n",
              " 'SBAR': 161}"
            ]
          },
          "metadata": {},
          "execution_count": 36
        }
      ]
    },
    {
      "cell_type": "code",
      "source": [
        "nx.clustering(northeast_region)"
      ],
      "metadata": {
        "colab": {
          "base_uri": "https://localhost:8080/"
        },
        "id": "7MpVefptLFp8",
        "outputId": "184c984d-4dd2-49ba-8c6d-3ec8c0bd7b1d"
      },
      "execution_count": 37,
      "outputs": [
        {
          "output_type": "execute_result",
          "data": {
            "text/plain": [
              "{'SNCL': 1.0,\n",
              " 'SNRS': 0,\n",
              " 'SNAH': 0,\n",
              " 'SSLS': 0,\n",
              " 'SNUU': 0,\n",
              " 'SNQY': 0.5619047619047619,\n",
              " 'SNBU': 0,\n",
              " 'SBSV': 0.1607267645003494,\n",
              " 'SBSL': 0.5476190476190477,\n",
              " 'SNJO': 1.0,\n",
              " 'SNOB': 0,\n",
              " 'SBNT': 0.5042735042735043,\n",
              " 'SNML': 0,\n",
              " 'SNKB': 1.0,\n",
              " 'SNIC': 1.0,\n",
              " 'SNVB': 0.7142857142857143,\n",
              " 'SBPL': 0.572463768115942,\n",
              " 'SSSK': 0,\n",
              " 'SNUC': 1.0,\n",
              " 'SBVC': 0.7777777777777778,\n",
              " 'SBFE': 1.0,\n",
              " 'SNHS': 1.0,\n",
              " 'SBTE': 0.5672514619883041,\n",
              " 'SBMS': 0.6727272727272727,\n",
              " 'SNWS': 0,\n",
              " 'SBUF': 1.0,\n",
              " 'SNDM': 1.0,\n",
              " 'SNBR': 0.375,\n",
              " 'SBTC': 0.7575757575757576,\n",
              " 'SNAV': 0,\n",
              " 'SDLK': 0,\n",
              " 'SNAT': 0.8,\n",
              " 'SNMU': 0.7,\n",
              " 'SNDH': 1.0,\n",
              " 'SNDQ': 0,\n",
              " 'SNTF': 0.5,\n",
              " 'SBTV': 0,\n",
              " 'SBCV': 0.6666666666666666,\n",
              " 'SNVV': 1.0,\n",
              " 'SNVR': 0,\n",
              " 'SNRU': 1.0,\n",
              " 'SNGI': 0.5,\n",
              " 'SBJE': 0.9444444444444444,\n",
              " 'SNAB': 0,\n",
              " 'SIBU': 1.0,\n",
              " 'SSRS': 0.6666666666666666,\n",
              " 'SWBE': 0,\n",
              " 'SBMO': 0.4708994708994709,\n",
              " 'SNBI': 0,\n",
              " 'SNPC': 0,\n",
              " 'SNBS': 0,\n",
              " 'SBIL': 0.5473684210526316,\n",
              " 'SNTS': 0.6666666666666666,\n",
              " 'SWNB': 1.0,\n",
              " 'SWRF': 0,\n",
              " 'SBLE': 0.8571428571428571,\n",
              " 'SBJU': 0.45014245014245013,\n",
              " 'SBAC': 1.0,\n",
              " 'SBFN': 0.9272727272727272,\n",
              " 'SNMJ': 0,\n",
              " 'SNBX': 0,\n",
              " 'SIRI': 1.0,\n",
              " 'SNQM': 0,\n",
              " 'SBIZ': 0.7142857142857143,\n",
              " 'SBKG': 0.6491228070175439,\n",
              " 'SNIP': 1.0,\n",
              " 'SBPB': 0.6923076923076923,\n",
              " '2NHT': 1.0,\n",
              " 'SNIG': 0.6666666666666666,\n",
              " 'SBJP': 0.47883597883597884,\n",
              " 'SNQX': 0,\n",
              " 'SBSG': 0.7320261437908496,\n",
              " 'SBCI': 0,\n",
              " 'SNJD': 0.5,\n",
              " 'SNKK': 0.5555555555555556,\n",
              " 'SBPS': 0.4646153846153846,\n",
              " 'SNQD': 0.5818181818181818,\n",
              " 'SNVC': 0,\n",
              " 'SNJB': 1.0,\n",
              " 'SNSG': 0,\n",
              " 'SBFZ': 0.3310924369747899,\n",
              " 'SBLP': 0.5,\n",
              " 'SDZG': 0,\n",
              " 'SBQV': 0.4338235294117647,\n",
              " 'SNDR': 1.0,\n",
              " 'SNIU': 0,\n",
              " 'SBRF': 0.34384384384384387,\n",
              " 'SNQG': 0.3333333333333333,\n",
              " 'SNPP': 0,\n",
              " 'SNJK': 0,\n",
              " 'SJUR': 0,\n",
              " 'SBAR': 0.5366666666666666}"
            ]
          },
          "metadata": {},
          "execution_count": 37
        }
      ]
    },
    {
      "cell_type": "code",
      "source": [
        "nx.average_clustering(northeast_region)"
      ],
      "metadata": {
        "colab": {
          "base_uri": "https://localhost:8080/"
        },
        "id": "x9TgL0_7LOrS",
        "outputId": "6eca45cd-f4f7-4c87-8dd6-fa992495e07e"
      },
      "execution_count": 38,
      "outputs": [
        {
          "output_type": "execute_result",
          "data": {
            "text/plain": [
              "0.4719877188787716"
            ]
          },
          "metadata": {},
          "execution_count": 38
        }
      ]
    },
    {
      "cell_type": "markdown",
      "source": [
        "## Região Sudeste"
      ],
      "metadata": {
        "id": "tl7XILJxMeaO"
      }
    },
    {
      "cell_type": "code",
      "source": [
        "nx.triangles(southeast_region)"
      ],
      "metadata": {
        "colab": {
          "base_uri": "https://localhost:8080/"
        },
        "id": "KhpM88vFMjpJ",
        "outputId": "35fc2adf-465a-44e3-d8f4-399b78b3c597"
      },
      "execution_count": 40,
      "outputs": [
        {
          "output_type": "execute_result",
          "data": {
            "text/plain": [
              "{'SBAF': 8,\n",
              " 'SNDT': 7,\n",
              " 'SBAG': 38,\n",
              " 'SDMC': 6,\n",
              " 'SDSC': 168,\n",
              " 'SNAR': 6,\n",
              " 'SBSC': 5,\n",
              " 'SBAS': 45,\n",
              " 'SDRS': 17,\n",
              " 'SNOS': 4,\n",
              " 'SNPJ': 8,\n",
              " 'SNGA': 0,\n",
              " 'SNJM': 5,\n",
              " 'SDTK': 41,\n",
              " 'SBAV': 3,\n",
              " 'SNKI': 1,\n",
              " 'SNJR': 36,\n",
              " 'SNXB': 0,\n",
              " 'SNPX': 6,\n",
              " 'SBIP': 256,\n",
              " 'SNPD': 60,\n",
              " 'SBRJ': 512,\n",
              " 'SBAQ': 201,\n",
              " 'SNAP': 0,\n",
              " 'SBCB': 122,\n",
              " 'SBGR': 552,\n",
              " 'SNGX': 3,\n",
              " 'SBUR': 340,\n",
              " 'SDIM': 0,\n",
              " 'SBBZ': 69,\n",
              " 'SBMM': 0,\n",
              " 'SNBA': 15,\n",
              " 'SBLS': 6,\n",
              " 'SNMK': 12,\n",
              " 'SBJH': 0,\n",
              " 'SNUI': 11,\n",
              " 'SNJN': 6,\n",
              " 'SBBP': 0,\n",
              " 'SBSP': 561,\n",
              " 'SDBB': 0,\n",
              " 'SBDN': 216,\n",
              " 'SDLU': 0,\n",
              " 'SNYB': 6,\n",
              " 'SDUB': 3,\n",
              " 'SBMK': 165,\n",
              " 'SNNT': 0,\n",
              " 'SBBQ': 13,\n",
              " 'SDOU': 6,\n",
              " 'SJTC': 106,\n",
              " 'SWLF': 0,\n",
              " 'SNFE': 15,\n",
              " 'SBME': 218,\n",
              " 'SNUB': 0,\n",
              " 'SBMT': 79,\n",
              " 'SBJF': 200,\n",
              " 'SBSJ': 371,\n",
              " 'SDVG': 43,\n",
              " 'SBAX': 139,\n",
              " 'SBGP': 10,\n",
              " 'SDDM': 0,\n",
              " 'SBJD': 203,\n",
              " 'SNZR': 9,\n",
              " 'SBRP': 413,\n",
              " 'SBPI': 0,\n",
              " 'SNCX': 0,\n",
              " 'SDVE': 0,\n",
              " 'SNLO': 0,\n",
              " 'SDBK': 21,\n",
              " 'SBPC': 50,\n",
              " 'SBYS': 1,\n",
              " 'SNZA': 12,\n",
              " 'SBGV': 163,\n",
              " 'SBLN': 2,\n",
              " 'SNUH': 3,\n",
              " 'SNGV': 59,\n",
              " 'SBSR': 340,\n",
              " 'SSZW': 1,\n",
              " 'SBGL': 470,\n",
              " 'SBBT': 46,\n",
              " 'SNDV': 10,\n",
              " 'SBCF': 430,\n",
              " 'SIGP': 3,\n",
              " 'SBBH': 569,\n",
              " 'SNAX': 1,\n",
              " 'SDAG': 82,\n",
              " 'SBMI': 1,\n",
              " 'SBAU': 210,\n",
              " 'SBJR': 97,\n",
              " 'SNMX': 10,\n",
              " 'SBML': 237,\n",
              " 'SBUL': 308,\n",
              " 'SDAN': 3,\n",
              " 'SBVT': 360,\n",
              " 'SDUN': 11,\n",
              " 'SBFC': 97,\n",
              " 'SIMK': 42,\n",
              " 'SBCP': 184,\n",
              " 'SBKP': 485,\n",
              " 'SNBG': 0,\n",
              " 'SDCO': 313,\n",
              " 'SNCT': 12,\n",
              " 'SBVG': 216,\n",
              " 'SDFR': 9,\n",
              " 'SDTF': 0,\n",
              " 'SNTO': 18,\n",
              " 'SIFV': 10,\n",
              " 'SBZM': 87,\n",
              " 'SBAE': 182,\n",
              " 'SNFO': 0,\n",
              " 'SNNU': 4,\n",
              " 'SDAA': 8,\n",
              " 'SBBU': 149,\n",
              " 'SBST': 23,\n",
              " 'SDJA': 0,\n",
              " 'SNPY': 5,\n",
              " 'SDZC': 0,\n",
              " 'SDAM': 107,\n",
              " 'SNBM': 0,\n",
              " 'SDPA': 10}"
            ]
          },
          "metadata": {},
          "execution_count": 40
        }
      ]
    },
    {
      "cell_type": "code",
      "source": [
        "nx.clustering(southeast_region)"
      ],
      "metadata": {
        "colab": {
          "base_uri": "https://localhost:8080/"
        },
        "id": "IgaQRd1SMqob",
        "outputId": "6d0bf21a-2ca6-4fd9-8c84-f1a576a6e5e6"
      },
      "execution_count": 41,
      "outputs": [
        {
          "output_type": "execute_result",
          "data": {
            "text/plain": [
              "{'SBAF': 0.8,\n",
              " 'SNDT': 0.7,\n",
              " 'SBAG': 0.8444444444444444,\n",
              " 'SDMC': 1.0,\n",
              " 'SDSC': 0.8,\n",
              " 'SNAR': 1.0,\n",
              " 'SBSC': 0.8333333333333334,\n",
              " 'SBAS': 1.0,\n",
              " 'SDRS': 0.8095238095238095,\n",
              " 'SNOS': 0.6666666666666666,\n",
              " 'SNPJ': 0.8,\n",
              " 'SNGA': 0,\n",
              " 'SNJM': 0.8333333333333334,\n",
              " 'SDTK': 0.7454545454545455,\n",
              " 'SBAV': 1.0,\n",
              " 'SNKI': 1.0,\n",
              " 'SNJR': 1.0,\n",
              " 'SNXB': 0,\n",
              " 'SNPX': 1.0,\n",
              " 'SBIP': 0.5161290322580645,\n",
              " 'SNPD': 0.5,\n",
              " 'SBRJ': 0.2992402104032729,\n",
              " 'SBAQ': 0.8701298701298701,\n",
              " 'SNAP': 0,\n",
              " 'SBCB': 0.8970588235294118,\n",
              " 'SBGR': 0.3016393442622951,\n",
              " 'SNGX': 1.0,\n",
              " 'SBUR': 0.5396825396825397,\n",
              " 'SDIM': 0,\n",
              " 'SBBZ': 0.7582417582417582,\n",
              " 'SBMM': 0,\n",
              " 'SNBA': 1.0,\n",
              " 'SBLS': 1.0,\n",
              " 'SNMK': 0.8,\n",
              " 'SBJH': 0,\n",
              " 'SNUI': 0.7333333333333333,\n",
              " 'SNJN': 1.0,\n",
              " 'SBBP': 0,\n",
              " 'SBSP': 0.2462686567164179,\n",
              " 'SDBB': 0,\n",
              " 'SBDN': 0.72,\n",
              " 'SDLU': 0,\n",
              " 'SNYB': 1.0,\n",
              " 'SDUB': 1.0,\n",
              " 'SBMK': 0.7142857142857143,\n",
              " 'SNNT': 0,\n",
              " 'SBBQ': 0.8666666666666667,\n",
              " 'SDOU': 0.6,\n",
              " 'SJTC': 0.8833333333333333,\n",
              " 'SWLF': 0,\n",
              " 'SNFE': 0.7142857142857143,\n",
              " 'SBME': 0.5767195767195767,\n",
              " 'SNUB': 0,\n",
              " 'SBMT': 0.6583333333333333,\n",
              " 'SBJF': 0.7246376811594203,\n",
              " 'SBSJ': 0.5570570570570571,\n",
              " 'SDVG': 0.9555555555555556,\n",
              " 'SBAX': 0.6017316017316018,\n",
              " 'SBGP': 1.0,\n",
              " 'SDDM': 0,\n",
              " 'SBJD': 0.5,\n",
              " 'SNZR': 0.9,\n",
              " 'SBRP': 0.4796747967479675,\n",
              " 'SBPI': 0,\n",
              " 'SNCX': 0,\n",
              " 'SDVE': 0,\n",
              " 'SNLO': 0,\n",
              " 'SDBK': 1.0,\n",
              " 'SBPC': 0.7575757575757576,\n",
              " 'SBYS': 1.0,\n",
              " 'SNZA': 0.5714285714285714,\n",
              " 'SBGV': 0.7056277056277056,\n",
              " 'SBLN': 0.6666666666666666,\n",
              " 'SNUH': 1.0,\n",
              " 'SNGV': 0.8939393939393939,\n",
              " 'SBSR': 0.5105105105105106,\n",
              " 'SSZW': 1.0,\n",
              " 'SBGL': 0.3836734693877551,\n",
              " 'SBBT': 0.8363636363636363,\n",
              " 'SNDV': 1.0,\n",
              " 'SBCF': 0.41545893719806765,\n",
              " 'SIGP': 1.0,\n",
              " 'SBBH': 0.1800632911392405,\n",
              " 'SNAX': 1.0,\n",
              " 'SDAG': 0.780952380952381,\n",
              " 'SBMI': 1.0,\n",
              " 'SBAU': 0.8300395256916996,\n",
              " 'SBJR': 0.5672514619883041,\n",
              " 'SNMX': 1.0,\n",
              " 'SBML': 0.79,\n",
              " 'SBUL': 0.5833333333333334,\n",
              " 'SDAN': 1.0,\n",
              " 'SBVT': 0.46153846153846156,\n",
              " 'SDUN': 0.7333333333333333,\n",
              " 'SBFC': 0.7132352941176471,\n",
              " 'SIMK': 0.9333333333333333,\n",
              " 'SBCP': 0.5661538461538461,\n",
              " 'SBKP': 0.36576168929110103,\n",
              " 'SNBG': 0,\n",
              " 'SDCO': 0.6310483870967742,\n",
              " 'SNCT': 0.5714285714285714,\n",
              " 'SBVG': 0.5320197044334976,\n",
              " 'SDFR': 0.9,\n",
              " 'SDTF': 0,\n",
              " 'SNTO': 0.5,\n",
              " 'SIFV': 1.0,\n",
              " 'SBZM': 0.9560439560439561,\n",
              " 'SBAE': 0.7878787878787878,\n",
              " 'SNFO': 0,\n",
              " 'SNNU': 0.6666666666666666,\n",
              " 'SDAA': 0.8,\n",
              " 'SBBU': 0.7842105263157895,\n",
              " 'SBST': 0.6388888888888888,\n",
              " 'SDJA': 0,\n",
              " 'SNPY': 0.8333333333333334,\n",
              " 'SDZC': 0,\n",
              " 'SDAM': 0.8916666666666667,\n",
              " 'SNBM': 0,\n",
              " 'SDPA': 1.0}"
            ]
          },
          "metadata": {},
          "execution_count": 41
        }
      ]
    },
    {
      "cell_type": "code",
      "source": [
        "nx.average_clustering(southeast_region)"
      ],
      "metadata": {
        "colab": {
          "base_uri": "https://localhost:8080/"
        },
        "id": "YD4OBVTqMwUb",
        "outputId": "dce038e4-b4e6-49f8-a12e-75958ca6034e"
      },
      "execution_count": 42,
      "outputs": [
        {
          "output_type": "execute_result",
          "data": {
            "text/plain": [
              "0.6175309816849806"
            ]
          },
          "metadata": {},
          "execution_count": 42
        }
      ]
    },
    {
      "cell_type": "markdown",
      "source": [
        "## Região Centro-oeste"
      ],
      "metadata": {
        "id": "uZ8C29bWM3aZ"
      }
    },
    {
      "cell_type": "code",
      "source": [
        "nx.triangles(midwest_region)"
      ],
      "metadata": {
        "colab": {
          "base_uri": "https://localhost:8080/"
        },
        "id": "tTSEKqSLNET8",
        "outputId": "dc009924-05f7-47ce-9ee1-8f283a42913f"
      },
      "execution_count": 43,
      "outputs": [
        {
          "output_type": "execute_result",
          "data": {
            "text/plain": [
              "{'SWNS': 1,\n",
              " 'SWJH': 11,\n",
              " 'SWWA': 2,\n",
              " 'SSND': 3,\n",
              " 'SBDO': 1,\n",
              " 'SWLV': 0,\n",
              " 'SSTL': 0,\n",
              " 'SBCG': 35,\n",
              " 'SJDB': 1,\n",
              " 'SWJQ': 0,\n",
              " 'SBIT': 1,\n",
              " 'SWCP': 3,\n",
              " 'SBCN': 3,\n",
              " 'SWHP': 16,\n",
              " 'SSNC': 0,\n",
              " 'SBAN': 1,\n",
              " 'SSBB': 0,\n",
              " 'SDH2': 7,\n",
              " 'SWPH': 3,\n",
              " 'SBCY': 109,\n",
              " 'SIZX': 11,\n",
              " 'SWWU': 0,\n",
              " 'SSBE': 0,\n",
              " 'SWBZ': 2,\n",
              " 'SSNM': 1,\n",
              " 'SWNQ': 5,\n",
              " 'SWRP': 19,\n",
              " 'SWKC': 0,\n",
              " 'SWXM': 0,\n",
              " 'SBMC': 8,\n",
              " 'SWTS': 12,\n",
              " 'SBTG': 1,\n",
              " 'SSAC': 0,\n",
              " 'SBPP': 1,\n",
              " 'SBSO': 13,\n",
              " 'SJKB': 9,\n",
              " 'SWCB': 0,\n",
              " 'SWVR': 1,\n",
              " 'SBAT': 16,\n",
              " 'SWIQ': 8,\n",
              " 'SWMP': 2,\n",
              " 'SWKN': 1,\n",
              " 'SWDE': 0,\n",
              " 'SJQP': 0,\n",
              " 'SDOV': 1,\n",
              " 'SWGP': 1,\n",
              " 'SWYY': 0,\n",
              " 'SBDB': 3,\n",
              " 'SILC': 7,\n",
              " 'SJVO': 0,\n",
              " 'SWHG': 2,\n",
              " 'SIKC': 1,\n",
              " 'SWXV': 7,\n",
              " 'SWRD': 18,\n",
              " 'SWJN': 30,\n",
              " 'SWBU': 0,\n",
              " 'SIQE': 0,\n",
              " 'SWYK': 3,\n",
              " 'SWLC': 13,\n",
              " 'SWVC': 8,\n",
              " 'SWFE': 1,\n",
              " 'SWTU': 13,\n",
              " 'SBGO': 68,\n",
              " 'SWEK': 9,\n",
              " 'SNXL': 1,\n",
              " 'SBSI': 16,\n",
              " 'SBBR': 56,\n",
              " 'SWDB': 0,\n",
              " 'SWPY': 3,\n",
              " 'SBCR': 11,\n",
              " 'SWJW': 0,\n",
              " 'SDNM': 5,\n",
              " 'SWDM': 2,\n",
              " 'SSOU': 4,\n",
              " 'SSDO': 6,\n",
              " 'SWJU': 12,\n",
              " 'SBRD': 6,\n",
              " 'SWNH': 1,\n",
              " 'SWCI': 6,\n",
              " 'SWBG': 3,\n",
              " 'SSCL': 0,\n",
              " 'SWFX': 41,\n",
              " 'SWPQ': 3,\n",
              " '6ASO': 3,\n",
              " 'SJHG': 18,\n",
              " 'SWZM': 0,\n",
              " 'SSPB': 0,\n",
              " 'SWUA': 3,\n",
              " 'SWCD': 0,\n",
              " 'SNMH': 0,\n",
              " 'SBBW': 22}"
            ]
          },
          "metadata": {},
          "execution_count": 43
        }
      ]
    },
    {
      "cell_type": "code",
      "source": [
        "nx.clustering(midwest_region)"
      ],
      "metadata": {
        "colab": {
          "base_uri": "https://localhost:8080/"
        },
        "id": "z9BstFZQNVoT",
        "outputId": "8d943771-41a3-4dd2-fac0-3c9c0e09e8eb"
      },
      "execution_count": 44,
      "outputs": [
        {
          "output_type": "execute_result",
          "data": {
            "text/plain": [
              "{'SWNS': 1.0,\n",
              " 'SWJH': 0.5238095238095238,\n",
              " 'SWWA': 0.6666666666666666,\n",
              " 'SSND': 1.0,\n",
              " 'SBDO': 1.0,\n",
              " 'SWLV': 0,\n",
              " 'SSTL': 0,\n",
              " 'SBCG': 0.22875816993464052,\n",
              " 'SJDB': 1.0,\n",
              " 'SWJQ': 0,\n",
              " 'SBIT': 1.0,\n",
              " 'SWCP': 1.0,\n",
              " 'SBCN': 1.0,\n",
              " 'SWHP': 0.35555555555555557,\n",
              " 'SSNC': 0,\n",
              " 'SBAN': 1.0,\n",
              " 'SSBB': 0,\n",
              " 'SDH2': 0.7,\n",
              " 'SWPH': 1.0,\n",
              " 'SBCY': 0.09663120567375887,\n",
              " 'SIZX': 0.7333333333333333,\n",
              " 'SWWU': 0,\n",
              " 'SSBE': 0,\n",
              " 'SWBZ': 0.6666666666666666,\n",
              " 'SSNM': 1.0,\n",
              " 'SWNQ': 0.8333333333333334,\n",
              " 'SWRP': 0.6785714285714286,\n",
              " 'SWKC': 0,\n",
              " 'SWXM': 0,\n",
              " 'SBMC': 0.8,\n",
              " 'SWTS': 0.42857142857142855,\n",
              " 'SBTG': 1.0,\n",
              " 'SSAC': 0,\n",
              " 'SBPP': 1.0,\n",
              " 'SBSO': 0.8666666666666667,\n",
              " 'SJKB': 0.9,\n",
              " 'SWCB': 0,\n",
              " 'SWVR': 1.0,\n",
              " 'SBAT': 0.35555555555555557,\n",
              " 'SWIQ': 0.5333333333333333,\n",
              " 'SWMP': 0.6666666666666666,\n",
              " 'SWKN': 1.0,\n",
              " 'SWDE': 0,\n",
              " 'SJQP': 0,\n",
              " 'SDOV': 1.0,\n",
              " 'SWGP': 1.0,\n",
              " 'SWYY': 0,\n",
              " 'SBDB': 1.0,\n",
              " 'SILC': 0.4666666666666667,\n",
              " 'SJVO': 0,\n",
              " 'SWHG': 0.6666666666666666,\n",
              " 'SIKC': 1.0,\n",
              " 'SWXV': 0.7,\n",
              " 'SWRD': 0.5,\n",
              " 'SWJN': 0.38461538461538464,\n",
              " 'SWBU': 0,\n",
              " 'SIQE': 0,\n",
              " 'SWYK': 1.0,\n",
              " 'SWLC': 0.8666666666666667,\n",
              " 'SWVC': 0.8,\n",
              " 'SWFE': 1.0,\n",
              " 'SWTU': 0.6190476190476191,\n",
              " 'SBGO': 0.07897793263646923,\n",
              " 'SWEK': 0.42857142857142855,\n",
              " 'SNXL': 1.0,\n",
              " 'SBSI': 0.5714285714285714,\n",
              " 'SBBR': 0.18666666666666668,\n",
              " 'SWDB': 0,\n",
              " 'SWPY': 1.0,\n",
              " 'SBCR': 0.5238095238095238,\n",
              " 'SWJW': 0,\n",
              " 'SDNM': 0.8333333333333334,\n",
              " 'SWDM': 0.3333333333333333,\n",
              " 'SSOU': 0.6666666666666666,\n",
              " 'SSDO': 0.6,\n",
              " 'SWJU': 0.8,\n",
              " 'SBRD': 1.0,\n",
              " 'SWNH': 1.0,\n",
              " 'SWCI': 1.0,\n",
              " 'SWBG': 1.0,\n",
              " 'SSCL': 0,\n",
              " 'SWFX': 0.3416666666666667,\n",
              " 'SWPQ': 1.0,\n",
              " '6ASO': 0.5,\n",
              " 'SJHG': 0.6428571428571429,\n",
              " 'SWZM': 0,\n",
              " 'SSPB': 0,\n",
              " 'SWUA': 1.0,\n",
              " 'SWCD': 0,\n",
              " 'SNMH': 0,\n",
              " 'SBBW': 0.6111111111111112}"
            ]
          },
          "metadata": {},
          "execution_count": 44
        }
      ]
    },
    {
      "cell_type": "code",
      "source": [
        "nx.average_clustering(midwest_region)"
      ],
      "metadata": {
        "colab": {
          "base_uri": "https://localhost:8080/"
        },
        "id": "Nk17ciszN4S5",
        "outputId": "f21c0f34-79e0-460e-cece-28fb552c40a3"
      },
      "execution_count": 45,
      "outputs": [
        {
          "output_type": "execute_result",
          "data": {
            "text/plain": [
              "0.5511670869789284"
            ]
          },
          "metadata": {},
          "execution_count": 45
        }
      ]
    },
    {
      "cell_type": "markdown",
      "source": [
        "## Região Sul"
      ],
      "metadata": {
        "id": "_DXGulNfOdrF"
      }
    },
    {
      "cell_type": "code",
      "source": [
        "nx.triangles(south_region)"
      ],
      "metadata": {
        "colab": {
          "base_uri": "https://localhost:8080/"
        },
        "id": "F0u5sJcaOhOq",
        "outputId": "c525f13f-50e5-4617-fd24-2d3dd60f6d42"
      },
      "execution_count": 46,
      "outputs": [
        {
          "output_type": "execute_result",
          "data": {
            "text/plain": [
              "{'SSAB': 0,\n",
              " 'SBPA': 214,\n",
              " 'SSAP': 5,\n",
              " 'SSEP': 3,\n",
              " 'SSPI': 0,\n",
              " 'SBPK': 106,\n",
              " 'SBTD': 24,\n",
              " 'SBTR': 0,\n",
              " 'SBJV': 83,\n",
              " 'SSVI': 20,\n",
              " 'SSOG': 8,\n",
              " 'SSGG': 0,\n",
              " 'SBBI': 11,\n",
              " 'SSHZ': 3,\n",
              " 'SSPK': 1,\n",
              " 'SBJA': 10,\n",
              " 'SBCA': 82,\n",
              " 'SBBG': 13,\n",
              " 'SNEE': 1,\n",
              " 'SSNH': 1,\n",
              " 'SBGU': 1,\n",
              " 'SSBG': 0,\n",
              " 'SBSM': 120,\n",
              " 'SBCO': 0,\n",
              " 'SSCK': 46,\n",
              " 'SBPG': 0,\n",
              " 'SBLJ': 62,\n",
              " 'SBCX': 121,\n",
              " 'SSCC': 8,\n",
              " 'SBTL': 0,\n",
              " 'SBRG': 18,\n",
              " 'SSER': 91,\n",
              " 'SBFL': 183,\n",
              " 'SSVL': 4,\n",
              " 'SBGS': 1,\n",
              " 'SBFI': 103,\n",
              " 'SSTE': 0,\n",
              " 'SSZR': 37,\n",
              " 'SSUW': 26,\n",
              " 'SSCT': 2,\n",
              " 'SBUG': 71,\n",
              " 'SNCP': 6,\n",
              " 'SBPO': 9,\n",
              " 'SSSB': 1,\n",
              " 'SIXE': 0,\n",
              " 'SSCN': 1,\n",
              " 'SBNF': 83,\n",
              " 'SSGY': 0,\n",
              " 'SSKM': 1,\n",
              " 'SBCM': 51,\n",
              " 'SSJA': 75,\n",
              " 'SJRG': 6,\n",
              " 'SBNM': 84,\n",
              " 'SBCD': 73,\n",
              " 'SSSC': 0,\n",
              " 'SSOE': 14,\n",
              " 'SBCT': 227,\n",
              " 'SSUV': 1,\n",
              " 'SSIJ': 3,\n",
              " 'SBCH': 204,\n",
              " 'SSPG': 1,\n",
              " 'SBMG': 63,\n",
              " 'SSLT': 7,\n",
              " 'SBPF': 134,\n",
              " 'SSCP': 5,\n",
              " 'SBLO': 112,\n",
              " 'SBMH': 28,\n",
              " 'SSTD': 15,\n",
              " 'SSBN': 0,\n",
              " 'SSCR': 0,\n",
              " 'SSFB': 22,\n",
              " 'SSAE': 0,\n",
              " 'SSUM': 10}"
            ]
          },
          "metadata": {},
          "execution_count": 46
        }
      ]
    },
    {
      "cell_type": "code",
      "source": [
        "nx.clustering(south_region)"
      ],
      "metadata": {
        "colab": {
          "base_uri": "https://localhost:8080/"
        },
        "id": "xSVspcyqPaiL",
        "outputId": "30d00155-4d95-4fcc-c621-149a8de137ad"
      },
      "execution_count": 47,
      "outputs": [
        {
          "output_type": "execute_result",
          "data": {
            "text/plain": [
              "{'SSAB': 0,\n",
              " 'SBPA': 0.20676328502415459,\n",
              " 'SSAP': 0.8333333333333334,\n",
              " 'SSEP': 1.0,\n",
              " 'SSPI': 0,\n",
              " 'SBPK': 0.6198830409356725,\n",
              " 'SBTD': 0.8571428571428571,\n",
              " 'SBTR': 0,\n",
              " 'SBJV': 0.6916666666666667,\n",
              " 'SSVI': 0.9523809523809523,\n",
              " 'SSOG': 0.5333333333333333,\n",
              " 'SSGG': 0,\n",
              " 'SBBI': 0.7333333333333333,\n",
              " 'SSHZ': 1.0,\n",
              " 'SSPK': 1.0,\n",
              " 'SBJA': 1.0,\n",
              " 'SBCA': 0.6029411764705882,\n",
              " 'SBBG': 0.6190476190476191,\n",
              " 'SNEE': 1.0,\n",
              " 'SSNH': 1.0,\n",
              " 'SBGU': 1.0,\n",
              " 'SSBG': 0,\n",
              " 'SBSM': 0.43478260869565216,\n",
              " 'SBCO': 0,\n",
              " 'SSCK': 0.8363636363636363,\n",
              " 'SBPG': 0,\n",
              " 'SBLJ': 0.6813186813186813,\n",
              " 'SBCX': 0.6368421052631579,\n",
              " 'SSCC': 0.8,\n",
              " 'SBTL': 0,\n",
              " 'SBRG': 0.8571428571428571,\n",
              " 'SSER': 0.6691176470588235,\n",
              " 'SBFL': 0.4206896551724138,\n",
              " 'SSVL': 0.6666666666666666,\n",
              " 'SBGS': 1.0,\n",
              " 'SBFI': 0.49047619047619045,\n",
              " 'SSTE': 0,\n",
              " 'SSZR': 0.6727272727272727,\n",
              " 'SSUW': 0.9285714285714286,\n",
              " 'SSCT': 0.6666666666666666,\n",
              " 'SBUG': 0.6761904761904762,\n",
              " 'SNCP': 0.6,\n",
              " 'SBPO': 0.6,\n",
              " 'SSSB': 1.0,\n",
              " 'SIXE': 0,\n",
              " 'SSCN': 1.0,\n",
              " 'SBNF': 0.6916666666666667,\n",
              " 'SSGY': 0,\n",
              " 'SSKM': 1.0,\n",
              " 'SBCM': 0.6538461538461539,\n",
              " 'SSJA': 0.7142857142857143,\n",
              " 'SJRG': 1.0,\n",
              " 'SBNM': 0.6176470588235294,\n",
              " 'SBCD': 0.5367647058823529,\n",
              " 'SSSC': 0,\n",
              " 'SSOE': 0.6666666666666666,\n",
              " 'SBCT': 0.20124113475177305,\n",
              " 'SSUV': 1.0,\n",
              " 'SSIJ': 1.0,\n",
              " 'SBCH': 0.36363636363636365,\n",
              " 'SSPG': 1.0,\n",
              " 'SBMG': 0.8076923076923077,\n",
              " 'SSLT': 0.7,\n",
              " 'SBPF': 0.638095238095238,\n",
              " 'SSCP': 0.8333333333333334,\n",
              " 'SBLO': 0.4057971014492754,\n",
              " 'SBMH': 1.0,\n",
              " 'SSTD': 1.0,\n",
              " 'SSBN': 0,\n",
              " 'SSCR': 0,\n",
              " 'SSFB': 0.7857142857142857,\n",
              " 'SSAE': 0,\n",
              " 'SSUM': 0.6666666666666666}"
            ]
          },
          "metadata": {},
          "execution_count": 47
        }
      ]
    },
    {
      "cell_type": "code",
      "source": [
        "nx.average_clustering(south_region)"
      ],
      "metadata": {
        "colab": {
          "base_uri": "https://localhost:8080/"
        },
        "id": "ensmF5M3Phlz",
        "outputId": "cd2d64a9-ef47-423a-9500-e64dd197a74e"
      },
      "execution_count": 48,
      "outputs": [
        {
          "output_type": "execute_result",
          "data": {
            "text/plain": [
              "0.5968552724314078"
            ]
          },
          "metadata": {},
          "execution_count": 48
        }
      ]
    }
  ]
}